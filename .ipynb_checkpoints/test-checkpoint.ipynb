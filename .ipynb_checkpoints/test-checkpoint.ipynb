{
 "cells": [
  {
   "cell_type": "code",
   "execution_count": 1,
   "id": "3034bc31-0c1e-4087-8c75-1060005c6386",
   "metadata": {},
   "outputs": [],
   "source": [
    "import polars as pl\n",
    "import pandas as pd"
   ]
  },
  {
   "cell_type": "code",
   "execution_count": 4,
   "id": "3dc6fd33-cde7-48a3-abe6-7b4f6f5bc0fe",
   "metadata": {},
   "outputs": [],
   "source": [
    "import numpy as np\n",
    "import matplotlib.pyplot as plt"
   ]
  },
  {
   "cell_type": "code",
   "execution_count": 5,
   "id": "7125ac7a-099a-4985-bc96-0683c2b5912d",
   "metadata": {},
   "outputs": [],
   "source": [
    "df = pl.read_parquet(\"example_data/tools/crypto.parquet\")"
   ]
  },
  {
   "cell_type": "code",
   "execution_count": 7,
   "id": "22493c41-830e-4630-b1cf-bb1064c9e059",
   "metadata": {},
   "outputs": [],
   "source": [
    "df  = df.filter(~pl.col(\"symbol\").is_null())"
   ]
  },
  {
   "cell_type": "code",
   "execution_count": 9,
   "id": "38e77d7f-7552-4c72-a32c-ba8caa79c92a",
   "metadata": {},
   "outputs": [],
   "source": [
    "df  = df.with_columns(pl.col(\"open_time\").alias(\"datetime\"))"
   ]
  },
  {
   "cell_type": "code",
   "execution_count": 10,
   "id": "26b7d35b-1234-49f5-b25d-764c6ea71c69",
   "metadata": {},
   "outputs": [],
   "source": [
    "df = df.sort([\"symbol\",\"datetime\"])"
   ]
  },
  {
   "cell_type": "markdown",
   "id": "6dcc6824-1408-4eed-8894-05b05e54d5c7",
   "metadata": {},
   "source": [
    "# create label"
   ]
  },
  {
   "cell_type": "code",
   "execution_count": 12,
   "id": "cadad9a5-1dce-4c62-a6fb-92e456681b92",
   "metadata": {},
   "outputs": [],
   "source": [
    "from finml.finml.labeling.get_label import create_label"
   ]
  },
  {
   "cell_type": "code",
   "execution_count": 13,
   "id": "bb33600f-c303-4968-bbcd-76670e58e2f9",
   "metadata": {},
   "outputs": [
    {
     "data": {
      "text/plain": [
       "\u001b[0;31mSignature:\u001b[0m\n",
       "\u001b[0mcreate_label\u001b[0m\u001b[0;34m(\u001b[0m\u001b[0;34m\u001b[0m\n",
       "\u001b[0;34m\u001b[0m    \u001b[0mdf\u001b[0m\u001b[0;34m,\u001b[0m\u001b[0;34m\u001b[0m\n",
       "\u001b[0;34m\u001b[0m    \u001b[0mthreshold\u001b[0m\u001b[0;34m=\u001b[0m\u001b[0;36m0.02\u001b[0m\u001b[0;34m,\u001b[0m\u001b[0;34m\u001b[0m\n",
       "\u001b[0;34m\u001b[0m    \u001b[0mstop_loss\u001b[0m\u001b[0;34m=\u001b[0m\u001b[0;32mNone\u001b[0m\u001b[0;34m,\u001b[0m\u001b[0;34m\u001b[0m\n",
       "\u001b[0;34m\u001b[0m    \u001b[0mcut_label\u001b[0m\u001b[0;34m=\u001b[0m\u001b[0;32mTrue\u001b[0m\u001b[0;34m,\u001b[0m\u001b[0;34m\u001b[0m\n",
       "\u001b[0;34m\u001b[0m    \u001b[0mlog_return\u001b[0m\u001b[0;34m=\u001b[0m\u001b[0;32mTrue\u001b[0m\u001b[0;34m,\u001b[0m\u001b[0;34m\u001b[0m\n",
       "\u001b[0;34m\u001b[0m\u001b[0;34m)\u001b[0m\u001b[0;34m\u001b[0m\u001b[0;34m\u001b[0m\u001b[0m\n",
       "\u001b[0;31mDocstring:\u001b[0m <no docstring>\n",
       "\u001b[0;31mFile:\u001b[0m      /mnt/c/Users/clark/Documents/GitHub/nautilus_tutorial/finml/finml/labeling/get_label.py\n",
       "\u001b[0;31mType:\u001b[0m      function"
      ]
     },
     "metadata": {},
     "output_type": "display_data"
    }
   ],
   "source": [
    "create_label?"
   ]
  },
  {
   "cell_type": "code",
   "execution_count": 14,
   "id": "6a5523e2-888e-4808-8081-7488c192d33a",
   "metadata": {},
   "outputs": [],
   "source": [
    "threshold = 0.04\n",
    "stop_loss = 0.01\n",
    "cut_label = True\n",
    "log_return = False"
   ]
  },
  {
   "cell_type": "code",
   "execution_count": 16,
   "id": "6404c215-bcc0-4373-98e0-89a2ad922896",
   "metadata": {},
   "outputs": [],
   "source": [
    "df = df.groupby(\"symbol\").apply(lambda x:create_label(x,threshold,stop_loss,cut_label,log_return))"
   ]
  },
  {
   "cell_type": "markdown",
   "id": "be97205b-f79f-49b7-b61e-c16a47af7271",
   "metadata": {},
   "source": [
    "# compute factor and eval"
   ]
  },
  {
   "cell_type": "code",
   "execution_count": 17,
   "id": "cd22315c-b7a1-4195-af51-aef8997a4a7f",
   "metadata": {},
   "outputs": [
    {
     "data": {
      "text/plain": [
       "['open_time',\n",
       " 'open',\n",
       " 'high',\n",
       " 'low',\n",
       " 'close',\n",
       " 'volume',\n",
       " 'quote_volume',\n",
       " 'count',\n",
       " 'taker_buy_volume',\n",
       " 'taker_buy_quote_volume',\n",
       " 'symbol',\n",
       " 'sum_open_interest',\n",
       " 'sum_open_interest_value',\n",
       " 'count_toptrader_long_short_ratio',\n",
       " 'sum_toptrader_long_short_ratio',\n",
       " 'count_long_short_ratio',\n",
       " 'sum_taker_long_short_vol_ratio',\n",
       " 'datetime',\n",
       " 'event_ends',\n",
       " 'event_starts',\n",
       " 'label',\n",
       " 'count_index']"
      ]
     },
     "execution_count": 17,
     "metadata": {},
     "output_type": "execute_result"
    }
   ],
   "source": [
    "df.columns"
   ]
  },
  {
   "cell_type": "code",
   "execution_count": 19,
   "id": "de33c05b-ea4f-44ed-946f-fee8857a964c",
   "metadata": {},
   "outputs": [],
   "source": [
    "from finml.alpha_research.evaluate.factor_analysis import factor_performance_graph"
   ]
  },
  {
   "cell_type": "code",
   "execution_count": null,
   "id": "ed197c70-cbb6-4a01-af40-7b3bd7629db3",
   "metadata": {},
   "outputs": [],
   "source": [
    "factor_performance_graph(\n",
    "    df,\n",
    "    "
   ]
  }
 ],
 "metadata": {
  "kernelspec": {
   "display_name": "nautilus",
   "language": "python",
   "name": "nautilus-trader-py3.10"
  },
  "language_info": {
   "codemirror_mode": {
    "name": "ipython",
    "version": 3
   },
   "file_extension": ".py",
   "mimetype": "text/x-python",
   "name": "python",
   "nbconvert_exporter": "python",
   "pygments_lexer": "ipython3",
   "version": "3.10.6"
  }
 },
 "nbformat": 4,
 "nbformat_minor": 5
}
