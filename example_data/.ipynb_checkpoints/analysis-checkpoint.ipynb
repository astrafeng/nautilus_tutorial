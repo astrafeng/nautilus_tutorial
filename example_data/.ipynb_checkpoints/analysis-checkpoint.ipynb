{
 "cells": [
  {
   "cell_type": "code",
   "execution_count": 2,
   "id": "ad02d8d8-3bac-42e1-9080-b2c2234c647b",
   "metadata": {},
   "outputs": [],
   "source": [
    "import polars as pl"
   ]
  },
  {
   "cell_type": "code",
   "execution_count": 3,
   "id": "86d26b1a-4013-46b4-94e5-d09bbc48a072",
   "metadata": {},
   "outputs": [],
   "source": [
    "import numpy as np\n",
    "import matplotlib.pyplot as plt"
   ]
  },
  {
   "cell_type": "code",
   "execution_count": 4,
   "id": "fffda27d-875d-4d5e-b4e6-a577d5734fdc",
   "metadata": {},
   "outputs": [],
   "source": [
    "df = pl.read_parquet(\"PEPEUSDT_kline.parquet\")"
   ]
  },
  {
   "cell_type": "code",
   "execution_count": 5,
   "id": "d7633c25-4adb-40fd-9d08-c3ac109b00db",
   "metadata": {},
   "outputs": [],
   "source": [
    "df2 = pl.read_parquet(\"PEPEUSDT_metrics.parquet\")"
   ]
  },
  {
   "cell_type": "code",
   "execution_count": 6,
   "id": "46714d06-febe-42f4-a41f-e800aecae689",
   "metadata": {},
   "outputs": [],
   "source": [
    "df2 =  df2.with_columns([pl.col(\"create_time\").dt.timestamp(\"ms\")])"
   ]
  },
  {
   "cell_type": "code",
   "execution_count": 7,
   "id": "2721bbae-5857-4a25-8247-a36d09887cad",
   "metadata": {},
   "outputs": [],
   "source": [
    "df3 = df.join(df2,left_on=\"open_time\",right_on=\"create_time\")\n"
   ]
  },
  {
   "cell_type": "code",
   "execution_count": 8,
   "id": "d17e7598-5abc-4529-a77b-99b39dadc804",
   "metadata": {},
   "outputs": [],
   "source": [
    "shift_columns=[\n",
    "    'sum_open_interest',\n",
    "    'sum_open_interest_value',\n",
    "    'count_toptrader_long_short_ratio',\n",
    "    'sum_toptrader_long_short_ratio',\n",
    "    'count_long_short_ratio',\n",
    "    'sum_taker_long_short_vol_ratio']"
   ]
  },
  {
   "cell_type": "code",
   "execution_count": 9,
   "id": "48de4546-01a4-4601-9ba0-632bc7bcfd77",
   "metadata": {},
   "outputs": [],
   "source": [
    "df3 = df3.with_columns([pl.col(item).shift(1) for item in shift_columns])"
   ]
  },
  {
   "cell_type": "code",
   "execution_count": null,
   "id": "cd604de8-d4a8-433e-a27b-4db073cce004",
   "metadata": {},
   "outputs": [],
   "source": []
  },
  {
   "cell_type": "code",
   "execution_count": 10,
   "id": "20a1336f-6202-4595-aa13-501e4f9b08a7",
   "metadata": {},
   "outputs": [],
   "source": [
    "df3 = df3.drop_nulls()"
   ]
  },
  {
   "cell_type": "code",
   "execution_count": 19,
   "id": "0789c378-fad9-4692-bc98-f5efd48f99ab",
   "metadata": {},
   "outputs": [],
   "source": [
    "from finml.utils.stats import corrections"
   ]
  },
  {
   "cell_type": "code",
   "execution_count": 13,
   "id": "799469c8-60d0-4b8a-bc55-407c47477918",
   "metadata": {},
   "outputs": [],
   "source": [
    "\n",
    "import polars as pl \n",
    "import numpy as np \n",
    "\n",
    "\n",
    "def calc_change_since_pivot(current,last_pivot):\n",
    "    if(last_pivot == 0): last_pivot = 1 ** (-100) # avoid division by 0\n",
    "    perc_change_since_pivot = (current - last_pivot) / abs(last_pivot)\n",
    "    return perc_change_since_pivot\n",
    "\n",
    "def get_zigzag(idx, row, taip=None):\n",
    "    '''\n",
    "    item:datetime,close,high,low\n",
    "    '''\n",
    "    if (taip == \"Peak\"):\n",
    "        key = 2\n",
    "    elif (taip == \"Trough\"):\n",
    "        key = 3\n",
    "    else:\n",
    "        key = 1\n",
    "\n",
    "    return {\n",
    "        \"datetime\": row[0],\n",
    "        \"value\": row[key],\n",
    "        \"type\": taip,\n",
    "        \"idx\":idx,\n",
    "    }\n",
    "\n",
    "def create_label(\n",
    "    df,\n",
    "    threshold = 0.02,\n",
    "    stop_loss = None,\n",
    "    cut_label = True,\n",
    "    log_return = True,\n",
    "):\n",
    "    zigzags = []\n",
    "    for idx,item in enumerate(df.select([\"datetime\",\"close\",\"high\",\"low\"]).iter_rows()):\n",
    "        is_starting = (idx == 0)\n",
    "        if is_starting:\n",
    "            zigzags.append(get_zigzag(idx,item))\n",
    "            continue  \n",
    "\n",
    "        is_first_line = (len(zigzags) == 1) \n",
    "        if is_first_line:\n",
    "            perc_change_since_pivot = calc_change_since_pivot(item[1],zigzags[-1][\"value\"])\n",
    "            if abs(perc_change_since_pivot) >= threshold:\n",
    "                if perc_change_since_pivot > 0:\n",
    "                    zigzags.append(get_zigzag(idx, item,\"Peak\"))\n",
    "                    zigzags[0][\"type\"] = \"Through\"\n",
    "                else:\n",
    "                    zigzags.append(get_zigzag(idx, item, \"Trough\"))\n",
    "                    zigzags[0][\"type\"] = \"Peak\" \n",
    "            continue \n",
    "        is_through = zigzags[-2][\"value\"] > zigzags[-1][\"value\"]\n",
    "        is_ending = (idx == df.shape[0] - 1)\n",
    "        last_pivot = float(zigzags[-1][\"value\"])\n",
    "        # based on last pivot type, look for reversal or continuation\n",
    "        if(is_through):\n",
    "            perc_change_since_pivot = calc_change_since_pivot(item[1],zigzags[-1][\"value\"])\n",
    "            is_reversing = (perc_change_since_pivot >= threshold) or is_ending\n",
    "            is_continuing = item[1] <= last_pivot\n",
    "            if (is_continuing): \n",
    "                zigzags[-1] = get_zigzag(idx,item, \"Trough\")\n",
    "            elif (is_reversing): \n",
    "                zigzags.append(get_zigzag(idx,item, \"Peak\"))\n",
    "        else:\n",
    "            perc_change_since_pivot = calc_change_since_pivot(item[1],zigzags[-1][\"value\"])\n",
    "            is_reversing = (perc_change_since_pivot <= -threshold) or is_ending\n",
    "            is_continuing = item[1] >= last_pivot\n",
    "            if(is_continuing): \n",
    "                zigzags[-1] = get_zigzag(idx,item, \"Peak\")\n",
    "            elif (is_reversing): \n",
    "                zigzags.append(get_zigzag(idx,item, \"Trough\"))\n",
    "\n",
    "    zigzags = pl.DataFrame(zigzags)\n",
    "    zigzags = zigzags.select([\n",
    "        pl.all(),\n",
    "        pl.col(\"datetime\").shift(-1).alias(\"event_ends\"),\n",
    "        pl.col(\"value\").shift(-1).alias(\"prevext\")\n",
    "    ])\n",
    "    assert zigzags.shape[0] >=2 \n",
    "    df = df.join(zigzags, on = \"datetime\", how = \"left\")\n",
    "    df = df.select(\n",
    "        [pl.col(item).fill_null(strategy = \"forward\") if item in [\"prevext\",\"event_ends\"] else pl.col(item) for item in df.columns]\n",
    "    )\n",
    "    df = df.select(\n",
    "        [pl.all(), (pl.col(\"prevext\")/pl.col(\"close\") - 1.0).alias(\"label\")]\n",
    "    )\n",
    "    correct_label = [] \n",
    "    event_ends = [] \n",
    "    if stop_loss:\n",
    "        total_returns = df.select(\"label\").to_numpy().flatten() \n",
    "        original_event_ends = df.select(\"event_ends\").to_numpy().flatten() \n",
    "        original_datetime = df.select(\"datetime\").to_numpy().flatten() \n",
    "        close_array = df.select(\"close\").to_numpy().flatten() \n",
    "        high_array = df.select(\"high\").to_numpy().flatten()\n",
    "        low_array = df.select(\"low\").to_numpy().flatten()\n",
    "\n",
    "        for i in range(zigzags.shape[0]-1):\n",
    "            start_idx = zigzags[i,\"idx\"]\n",
    "            end_idx = zigzags[i+1,\"idx\"]\n",
    "            next_end_idx = zigzags[i+2,\"idx\"] if i+2 < zigzags.shape[0] else df.shape[0]-1\n",
    "            for j in range(start_idx,end_idx):\n",
    "                if total_returns[j] > 0:\n",
    "                    min_acc_arg = np.argmin(low_array[j+1:end_idx+1]) + j+1\n",
    "                    min_acc = min((low_array[min_acc_arg]-close_array[j])/close_array[j],0)\n",
    "                    if min_acc > -stop_loss:\n",
    "                        correct_label.append(total_returns[j])\n",
    "                        event_ends.append(original_event_ends[j])\n",
    "                    else:\n",
    "                        correct_label.append(min_acc)\n",
    "                        event_ends.append(original_datetime[min_acc_arg])\n",
    "                else:\n",
    "                    min_acc_arg = np.argmax(high_array[j+1:end_idx+1]) + j+1\n",
    "                    min_acc = max((high_array[min_acc_arg]-close_array[j])/close_array[j],0)\n",
    "                    if min_acc < stop_loss:\n",
    "                        correct_label.append(total_returns[j])\n",
    "                        event_ends.append(original_event_ends[j])\n",
    "                    else:\n",
    "                        correct_label.append(min_acc)\n",
    "                        event_ends.append(original_datetime[min_acc_arg])\n",
    "        #replace label of df \n",
    "        df = df[:len(correct_label),:]\n",
    "        df.replace(\"label\",pl.Series(correct_label))\n",
    "        df.replace(\"event_ends\",pl.Series(event_ends))\n",
    "       \n",
    "    ## drop the front data because zigzag is meanless on these data \n",
    "    df = df.filter((pl.col(\"datetime\")>=zigzags[1,\"datetime\"]))\n",
    "\n",
    "    df = df.select(pl.all().exclude(['value', 'type', 'idx', 'prevext']))\n",
    "    df = df.with_columns( [pl.col(\"datetime\").alias(\"event_starts\")])\n",
    "    if cut_label:\n",
    "        label_array = df[:,\"label\"].to_numpy()\n",
    "        df = df.select([\n",
    "            pl.all().exclude(\"label\"),\n",
    "            (pl.when(pl.col(\"label\")>label_array.mean() +5.0*label_array.std())\n",
    "             .then(label_array.mean() +5.0*label_array.std())\n",
    "             .otherwise(pl.col(\"label\"))).alias(\"label\"),\n",
    "        ])\n",
    "        df = df.select([\n",
    "            pl.all().exclude(\"label\"),\n",
    "            (pl.when(pl.col(\"label\")< label_array.mean() - 5.0*label_array.std())\n",
    "             .then(label_array.mean() - 5.0*label_array.std())\n",
    "             .otherwise(pl.col(\"label\"))).alias(\"label\"),\n",
    "        ])\n",
    "    df = df.select(\n",
    "            [pl.all(), pl.arange(0, pl.count()).alias(\"count_index\")]\n",
    "        )\n",
    "    if log_return:\n",
    "        df = df.with_columns(\n",
    "            [\n",
    "                (pl.col(\"label\")+1.0).log().alias(\"label\"),\n",
    "            ]\n",
    "        )\n",
    "\n",
    "    return df "
   ]
  },
  {
   "cell_type": "code",
   "execution_count": 16,
   "id": "bbb1e03f-e49d-4ae7-90c4-fc7ead09233d",
   "metadata": {},
   "outputs": [],
   "source": [
    "df3 = df3.with_columns(pl.col(\"open_time\").alias(\"datetime\"))"
   ]
  },
  {
   "cell_type": "code",
   "execution_count": 17,
   "id": "62e56e8f-537c-4168-9cf7-e403dc878d3d",
   "metadata": {},
   "outputs": [],
   "source": [
    "\n",
    "labeled_df = create_label(df3,    threshold = 0.02,\n",
    "    stop_loss = 0.005,\n",
    "    cut_label = False,\n",
    "    log_return = True)"
   ]
  },
  {
   "cell_type": "code",
   "execution_count": 18,
   "id": "89a5ae3d-9d4c-4969-8880-bf056342867a",
   "metadata": {},
   "outputs": [
    {
     "data": {
      "text/html": [
       "<div><style>\n",
       ".dataframe > thead > tr > th,\n",
       ".dataframe > tbody > tr > td {\n",
       "  text-align: right;\n",
       "}\n",
       "</style>\n",
       "<small>shape: (9773, 24)</small><table border=\"1\" class=\"dataframe\"><thead><tr><th>open_time</th><th>open</th><th>high</th><th>low</th><th>close</th><th>volume</th><th>close_time</th><th>quote_volume</th><th>count</th><th>taker_buy_volume</th><th>taker_buy_quote_volume</th><th>ignore</th><th>symbol</th><th>sum_open_interest</th><th>sum_open_interest_value</th><th>count_toptrader_long_short_ratio</th><th>sum_toptrader_long_short_ratio</th><th>count_long_short_ratio</th><th>sum_taker_long_short_vol_ratio</th><th>datetime</th><th>event_ends</th><th>label</th><th>event_starts</th><th>count_index</th></tr><tr><td>i64</td><td>f64</td><td>f64</td><td>f64</td><td>f64</td><td>i64</td><td>i64</td><td>f64</td><td>i64</td><td>i64</td><td>f64</td><td>i64</td><td>str</td><td>f64</td><td>f64</td><td>f64</td><td>f64</td><td>f64</td><td>f64</td><td>i64</td><td>i64</td><td>f64</td><td>i64</td><td>i64</td></tr></thead><tbody><tr><td>1683593400000</td><td>0.0018831</td><td>0.0018856</td><td>0.0017832</td><td>0.0017832</td><td>4441109298</td><td>1683593699999</td><td>8.1503e6</td><td>23317</td><td>1260328549</td><td>2.3189e6</td><td>0</td><td>&quot;1000PEPEUSDT&quot;</td><td>2.3348e10</td><td>4.4202e7</td><td>1.761619</td><td>0.977537</td><td>1.642254</td><td>1.38637</td><td>1683593400000</td><td>1683593700000</td><td>-0.008165</td><td>1683593400000</td><td>0</td></tr><tr><td>1683593700000</td><td>0.0017832</td><td>0.0018217</td><td>0.0017687</td><td>0.0018139</td><td>7491775480</td><td>1683593999999</td><td>1.3490e7</td><td>37096</td><td>3714200570</td><td>6.6914e6</td><td>0</td><td>&quot;1000PEPEUSDT&quot;</td><td>2.3314e10</td><td>4.3997e7</td><td>1.781899</td><td>0.975177</td><td>1.654445</td><td>1.004685</td><td>1683593700000</td><td>1683594000000</td><td>-0.015389</td><td>1683593700000</td><td>1</td></tr><tr><td>1683594000000</td><td>0.0018136</td><td>0.0018242</td><td>0.0017862</td><td>0.001809</td><td>4608083876</td><td>1683594299999</td><td>8.3400e6</td><td>25939</td><td>2202475686</td><td>3.9884e6</td><td>0</td><td>&quot;1000PEPEUSDT&quot;</td><td>2.3174e10</td><td>4.1724e7</td><td>1.768608</td><td>0.987239</td><td>1.552028</td><td>0.396595</td><td>1683594000000</td><td>1683597300000</td><td>0.065833</td><td>1683594000000</td><td>2</td></tr><tr><td>1683594300000</td><td>0.001809</td><td>0.0018511</td><td>0.0018025</td><td>0.0018298</td><td>4249467729</td><td>1683594599999</td><td>7.7946e6</td><td>23967</td><td>2260956860</td><td>4.1505e6</td><td>0</td><td>&quot;1000PEPEUSDT&quot;</td><td>2.2444e10</td><td>4.0653e7</td><td>1.753202</td><td>0.980049</td><td>1.524463</td><td>0.983224</td><td>1683594300000</td><td>1683595500000</td><td>-0.011543</td><td>1683594300000</td><td>3</td></tr><tr><td>1683594600000</td><td>0.0018298</td><td>0.0018516</td><td>0.0018166</td><td>0.001825</td><td>1968366161</td><td>1683594899999</td><td>3.6167e6</td><td>12429</td><td>984042582</td><td>1.8093e6</td><td>0</td><td>&quot;1000PEPEUSDT&quot;</td><td>2.2710e10</td><td>4.1105e7</td><td>1.751251</td><td>0.98163</td><td>1.508441</td><td>0.915478</td><td>1683594600000</td><td>1683595500000</td><td>-0.008916</td><td>1683594600000</td><td>4</td></tr><tr><td>1683594900000</td><td>0.0018251</td><td>0.0018442</td><td>0.0018251</td><td>0.0018345</td><td>1134180494</td><td>1683595199999</td><td>2.0819e6</td><td>7896</td><td>500486516</td><td>918615.486701</td><td>0</td><td>&quot;1000PEPEUSDT&quot;</td><td>2.2715e10</td><td>4.1556e7</td><td>1.789072</td><td>0.975458</td><td>1.55757</td><td>1.1365795</td><td>1683594900000</td><td>1683595500000</td><td>-0.014108</td><td>1683594900000</td><td>5</td></tr><tr><td>1683595200000</td><td>0.0018345</td><td>0.0018455</td><td>0.0018137</td><td>0.0018274</td><td>1387087908</td><td>1683595499999</td><td>2.5377e6</td><td>11060</td><td>613075694</td><td>1.1222e6</td><td>0</td><td>&quot;1000PEPEUSDT&quot;</td><td>2.2749e10</td><td>4.1480e7</td><td>1.796074</td><td>0.978016</td><td>1.558111</td><td>1.003113</td><td>1683595200000</td><td>1683595500000</td><td>-0.010231</td><td>1683595200000</td><td>6</td></tr><tr><td>1683595500000</td><td>0.0018274</td><td>0.0018463</td><td>0.0018088</td><td>0.0018454</td><td>1973784450</td><td>1683595799999</td><td>3.6074e6</td><td>14479</td><td>1053240500</td><td>1.9262e6</td><td>0</td><td>&quot;1000PEPEUSDT&quot;</td><td>2.2932e10</td><td>4.2010e7</td><td>1.777321</td><td>0.980643</td><td>1.5464</td><td>0.789792</td><td>1683595500000</td><td>1683595800000</td><td>-0.006469</td><td>1683595500000</td><td>7</td></tr><tr><td>1683595800000</td><td>0.0018453</td><td>0.001893</td><td>0.0018335</td><td>0.0018733</td><td>4011648970</td><td>1683596099999</td><td>7.4960e6</td><td>24940</td><td>2360866352</td><td>4.4127e6</td><td>0</td><td>&quot;1000PEPEUSDT&quot;</td><td>2.3021e10</td><td>4.2066e7</td><td>1.770089</td><td>0.979842</td><td>1.530136</td><td>0.792075</td><td>1683595800000</td><td>1683596400000</td><td>-0.013327</td><td>1683595800000</td><td>8</td></tr><tr><td>1683596100000</td><td>0.0018726</td><td>0.0018789</td><td>0.0018647</td><td>0.0018687</td><td>1326208919</td><td>1683596399999</td><td>2.4813e6</td><td>8917</td><td>614307193</td><td>1.1498e6</td><td>0</td><td>&quot;1000PEPEUSDT&quot;</td><td>2.3045e10</td><td>4.2541e7</td><td>1.760525</td><td>0.979016</td><td>1.526195</td><td>1.143559</td><td>1683596100000</td><td>1683596400000</td><td>-0.010869</td><td>1683596100000</td><td>9</td></tr><tr><td>1683596400000</td><td>0.0018686</td><td>0.0018705</td><td>0.0018485</td><td>0.0018555</td><td>1398401576</td><td>1683596699999</td><td>2.6018e6</td><td>9916</td><td>590317885</td><td>1.0990e6</td><td>0</td><td>&quot;1000PEPEUSDT&quot;</td><td>2.2585e10</td><td>4.2263e7</td><td>1.772499</td><td>0.972647</td><td>1.583359</td><td>1.43015</td><td>1683596400000</td><td>1683597300000</td><td>0.040453</td><td>1683596400000</td><td>10</td></tr><tr><td>1683596700000</td><td>0.0018554</td><td>0.0018948</td><td>0.00185</td><td>0.0018881</td><td>1725892143</td><td>1683596999999</td><td>3.2204e6</td><td>12203</td><td>1085344846</td><td>2.0266e6</td><td>0</td><td>&quot;1000PEPEUSDT&quot;</td><td>2.2646e10</td><td>4.2396e7</td><td>1.76087</td><td>0.965689</td><td>1.574699</td><td>0.86291</td><td>1683596700000</td><td>1683597000000</td><td>-0.011131</td><td>1683596700000</td><td>11</td></tr><tr><td>&hellip;</td><td>&hellip;</td><td>&hellip;</td><td>&hellip;</td><td>&hellip;</td><td>&hellip;</td><td>&hellip;</td><td>&hellip;</td><td>&hellip;</td><td>&hellip;</td><td>&hellip;</td><td>&hellip;</td><td>&hellip;</td><td>&hellip;</td><td>&hellip;</td><td>&hellip;</td><td>&hellip;</td><td>&hellip;</td><td>&hellip;</td><td>&hellip;</td><td>&hellip;</td><td>&hellip;</td><td>&hellip;</td><td>&hellip;</td></tr><tr><td>1686524100000</td><td>0.0009054</td><td>0.0009088</td><td>0.0009043</td><td>0.0009069</td><td>1330829535</td><td>1686524399999</td><td>1.2060e6</td><td>3380</td><td>712751899</td><td>645927.795477</td><td>0</td><td>&quot;1000PEPEUSDT&quot;</td><td>3.2564e10</td><td>2.9348e7</td><td>2.612543</td><td>1.059375</td><td>2.994584</td><td>1.177201</td><td>1686524100000</td><td>1686525900000</td><td>-0.00575</td><td>1686524100000</td><td>9761</td></tr><tr><td>1686524400000</td><td>0.0009068</td><td>0.0009092</td><td>0.0009048</td><td>0.000907</td><td>1998471448</td><td>1686524699999</td><td>1.8123e6</td><td>4794</td><td>969162657</td><td>878978.130747</td><td>0</td><td>&quot;1000PEPEUSDT&quot;</td><td>3.2447e10</td><td>2.9374e7</td><td>2.635975</td><td>1.063274</td><td>2.996284</td><td>1.128006</td><td>1686524400000</td><td>1686525900000</td><td>-0.005861</td><td>1686524400000</td><td>9762</td></tr><tr><td>1686524700000</td><td>0.000907</td><td>0.0009117</td><td>0.0009059</td><td>0.00091</td><td>1611070534</td><td>1686524999999</td><td>1.4648e6</td><td>3751</td><td>877621746</td><td>798040.601842</td><td>0</td><td>&quot;1000PEPEUSDT&quot;</td><td>3.2412e10</td><td>2.9398e7</td><td>2.625871</td><td>1.064653</td><td>2.997527</td><td>1.157304</td><td>1686524700000</td><td>1686525900000</td><td>-0.009163</td><td>1686524700000</td><td>9763</td></tr><tr><td>1686525000000</td><td>0.00091</td><td>0.0009133</td><td>0.0009091</td><td>0.0009105</td><td>1100908526</td><td>1686525299999</td><td>1.0031e6</td><td>2780</td><td>578302828</td><td>526929.50218</td><td>0</td><td>&quot;1000PEPEUSDT&quot;</td><td>3.2514e10</td><td>2.9474e7</td><td>2.609231</td><td>1.067824</td><td>2.984506</td><td>0.941566</td><td>1686525000000</td><td>1686525900000</td><td>-0.009712</td><td>1686525000000</td><td>9764</td></tr><tr><td>1686525300000</td><td>0.0009105</td><td>0.0009123</td><td>0.0009084</td><td>0.0009096</td><td>1019797757</td><td>1686525599999</td><td>928803.816943</td><td>2373</td><td>442858032</td><td>403455.123112</td><td>0</td><td>&quot;1000PEPEUSDT&quot;</td><td>3.2407e10</td><td>2.9493e7</td><td>2.585851</td><td>1.066628</td><td>2.97402</td><td>1.196569</td><td>1686525300000</td><td>1686525900000</td><td>-0.008723</td><td>1686525300000</td><td>9765</td></tr><tr><td>1686525600000</td><td>0.0009096</td><td>0.0009111</td><td>0.000908</td><td>0.0009106</td><td>973127886</td><td>1686525899999</td><td>884968.532367</td><td>2416</td><td>476990187</td><td>433814.518876</td><td>0</td><td>&quot;1000PEPEUSDT&quot;</td><td>3.2274e10</td><td>2.9390e7</td><td>2.569852</td><td>1.07088</td><td>2.966031</td><td>1.106576</td><td>1686525600000</td><td>1686525900000</td><td>-0.009822</td><td>1686525600000</td><td>9766</td></tr><tr><td>1686525900000</td><td>0.0009105</td><td>0.000911</td><td>0.0009017</td><td>0.0009034</td><td>2501191370</td><td>1686526199999</td><td>2.2643e6</td><td>5328</td><td>914657152</td><td>828094.731233</td><td>0</td><td>&quot;1000PEPEUSDT&quot;</td><td>3.2122e10</td><td>2.9221e7</td><td>2.578566</td><td>1.072747</td><td>2.966561</td><td>0.767598</td><td>1686525900000</td><td>1686527400000</td><td>0.01057</td><td>1686525900000</td><td>9767</td></tr><tr><td>1686526200000</td><td>0.000903</td><td>0.0009074</td><td>0.0009029</td><td>0.0009059</td><td>1310372781</td><td>1686526499999</td><td>1.1861e6</td><td>3049</td><td>845936547</td><td>765700.311383</td><td>0</td><td>&quot;1000PEPEUSDT&quot;</td><td>3.2096e10</td><td>2.9227e7</td><td>2.550473</td><td>1.073467</td><td>2.92971</td><td>0.961407</td><td>1686526200000</td><td>1686527400000</td><td>0.007807</td><td>1686526200000</td><td>9768</td></tr><tr><td>1686526500000</td><td>0.0009059</td><td>0.0009077</td><td>0.0009027</td><td>0.0009051</td><td>1174887337</td><td>1686526799999</td><td>1.0634e6</td><td>2655</td><td>587750481</td><td>532027.288343</td><td>0</td><td>&quot;1000PEPEUSDT&quot;</td><td>3.2014e10</td><td>2.8922e7</td><td>2.59204</td><td>1.071547</td><td>2.952589</td><td>0.576509</td><td>1686526500000</td><td>1686527400000</td><td>0.00869</td><td>1686526500000</td><td>9769</td></tr><tr><td>1686526800000</td><td>0.0009051</td><td>0.0009078</td><td>0.0009043</td><td>0.0009062</td><td>809457342</td><td>1686527099999</td><td>733572.545479</td><td>1948</td><td>453536561</td><td>411033.157609</td><td>0</td><td>&quot;1000PEPEUSDT&quot;</td><td>3.1931e10</td><td>2.8940e7</td><td>2.562334</td><td>1.071139</td><td>2.939086</td><td>1.821427</td><td>1686526800000</td><td>1686527400000</td><td>0.007476</td><td>1686526800000</td><td>9770</td></tr><tr><td>1686527100000</td><td>0.0009062</td><td>0.0009141</td><td>0.0009062</td><td>0.0009095</td><td>2088982014</td><td>1686527399999</td><td>1.9015e6</td><td>4323</td><td>1303123587</td><td>1.1862e6</td><td>0</td><td>&quot;1000PEPEUSDT&quot;</td><td>3.1868e10</td><td>2.8860e7</td><td>2.549094</td><td>1.072873</td><td>2.923503</td><td>1.001045</td><td>1686527100000</td><td>1686527400000</td><td>0.003841</td><td>1686527100000</td><td>9771</td></tr><tr><td>1686527400000</td><td>0.0009094</td><td>0.000913</td><td>0.0009094</td><td>0.0009121</td><td>821864578</td><td>1686527699999</td><td>748934.434447</td><td>1994</td><td>510761052</td><td>465449.103832</td><td>0</td><td>&quot;1000PEPEUSDT&quot;</td><td>3.1873e10</td><td>2.8883e7</td><td>2.546792</td><td>1.076052</td><td>2.916487</td><td>1.270788</td><td>1686527400000</td><td>1686527700000</td><td>-0.000987</td><td>1686527400000</td><td>9772</td></tr></tbody></table></div>"
      ],
      "text/plain": [
       "shape: (9773, 24)\n",
       "┌─────────┬────────────┬───────────┬───────────┬───┬──────────┬───────────┬────────────┬───────────┐\n",
       "│ open_ti ┆ open       ┆ high      ┆ low       ┆ … ┆ event_en ┆ label     ┆ event_star ┆ count_ind │\n",
       "│ me      ┆ ---        ┆ ---       ┆ ---       ┆   ┆ ds       ┆ ---       ┆ ts         ┆ ex        │\n",
       "│ ---     ┆ f64        ┆ f64       ┆ f64       ┆   ┆ ---      ┆ f64       ┆ ---        ┆ ---       │\n",
       "│ i64     ┆            ┆           ┆           ┆   ┆ i64      ┆           ┆ i64        ┆ i64       │\n",
       "╞═════════╪════════════╪═══════════╪═══════════╪═══╪══════════╪═══════════╪════════════╪═══════════╡\n",
       "│ 1683593 ┆ 0.0018831  ┆ 0.0018856 ┆ 0.0017832 ┆ … ┆ 16835937 ┆ -0.008165 ┆ 1683593400 ┆ 0         │\n",
       "│ 400000  ┆            ┆           ┆           ┆   ┆ 00000    ┆           ┆ 000        ┆           │\n",
       "│ 1683593 ┆ 0.0017832  ┆ 0.0018217 ┆ 0.0017687 ┆ … ┆ 16835940 ┆ -0.015389 ┆ 1683593700 ┆ 1         │\n",
       "│ 700000  ┆            ┆           ┆           ┆   ┆ 00000    ┆           ┆ 000        ┆           │\n",
       "│ 1683594 ┆ 0.0018136  ┆ 0.0018242 ┆ 0.0017862 ┆ … ┆ 16835973 ┆ 0.065833  ┆ 1683594000 ┆ 2         │\n",
       "│ 000000  ┆            ┆           ┆           ┆   ┆ 00000    ┆           ┆ 000        ┆           │\n",
       "│ 1683594 ┆ 0.001809   ┆ 0.0018511 ┆ 0.0018025 ┆ … ┆ 16835955 ┆ -0.011543 ┆ 1683594300 ┆ 3         │\n",
       "│ 300000  ┆            ┆           ┆           ┆   ┆ 00000    ┆           ┆ 000        ┆           │\n",
       "│ …       ┆ …          ┆ …         ┆ …         ┆ … ┆ …        ┆ …         ┆ …          ┆ …         │\n",
       "│ 1686526 ┆ 0.0009059  ┆ 0.0009077 ┆ 0.0009027 ┆ … ┆ 16865274 ┆ 0.00869   ┆ 1686526500 ┆ 9769      │\n",
       "│ 500000  ┆            ┆           ┆           ┆   ┆ 00000    ┆           ┆ 000        ┆           │\n",
       "│ 1686526 ┆ 0.0009051  ┆ 0.0009078 ┆ 0.0009043 ┆ … ┆ 16865274 ┆ 0.007476  ┆ 1686526800 ┆ 9770      │\n",
       "│ 800000  ┆            ┆           ┆           ┆   ┆ 00000    ┆           ┆ 000        ┆           │\n",
       "│ 1686527 ┆ 0.0009062  ┆ 0.0009141 ┆ 0.0009062 ┆ … ┆ 16865274 ┆ 0.003841  ┆ 1686527100 ┆ 9771      │\n",
       "│ 100000  ┆            ┆           ┆           ┆   ┆ 00000    ┆           ┆ 000        ┆           │\n",
       "│ 1686527 ┆ 0.0009094  ┆ 0.000913  ┆ 0.0009094 ┆ … ┆ 16865277 ┆ -0.000987 ┆ 1686527400 ┆ 9772      │\n",
       "│ 400000  ┆            ┆           ┆           ┆   ┆ 00000    ┆           ┆ 000        ┆           │\n",
       "└─────────┴────────────┴───────────┴───────────┴───┴──────────┴───────────┴────────────┴───────────┘"
      ]
     },
     "execution_count": 18,
     "metadata": {},
     "output_type": "execute_result"
    }
   ],
   "source": [
    "labeled_df"
   ]
  },
  {
   "cell_type": "code",
   "execution_count": 20,
   "id": "acfdbb73-90be-42e6-a6f7-f37c08f8183f",
   "metadata": {},
   "outputs": [
    {
     "data": {
      "text/plain": [
       "['open_time',\n",
       " 'open',\n",
       " 'high',\n",
       " 'low',\n",
       " 'close',\n",
       " 'volume',\n",
       " 'close_time',\n",
       " 'quote_volume',\n",
       " 'count',\n",
       " 'taker_buy_volume',\n",
       " 'taker_buy_quote_volume',\n",
       " 'ignore',\n",
       " 'symbol',\n",
       " 'sum_open_interest',\n",
       " 'sum_open_interest_value',\n",
       " 'count_toptrader_long_short_ratio',\n",
       " 'sum_toptrader_long_short_ratio',\n",
       " 'count_long_short_ratio',\n",
       " 'sum_taker_long_short_vol_ratio',\n",
       " 'datetime']"
      ]
     },
     "execution_count": 20,
     "metadata": {},
     "output_type": "execute_result"
    }
   ],
   "source": [
    "df3.columns"
   ]
  },
  {
   "cell_type": "code",
   "execution_count": 54,
   "id": "62656d16-eb9f-4c4c-bb8f-6ac99b76ec2b",
   "metadata": {},
   "outputs": [
    {
     "name": "stdout",
     "output_type": "stream",
     "text": [
      "                                  IS_label_corr  OS_label_corr\n",
      "sum_toptrader_long_short_ratio         0.039360       0.093728\n",
      "count_toptrader_long_short_ratio       0.010444       0.058488\n",
      "sum_open_interest                      0.000048       0.028093\n"
     ]
    }
   ],
   "source": [
    "\n",
    "        factor = labeled_df.select([pl.col(\"datetime\"),pl.col(shift_columns).rolling_std(20)])\n",
    "        label = labeled_df.select([pl.col('datetime'),pl.col(\"label\")])\n",
    "        corr = corrections(\n",
    "            factor,\n",
    "            label,\n",
    "            corr_type =\"pearson\",\n",
    "        )\n",
    "        print(corr)"
   ]
  },
  {
   "cell_type": "code",
   "execution_count": 46,
   "id": "5be4a18d-d96d-419f-aa09-c1970642db75",
   "metadata": {},
   "outputs": [],
   "source": [
    "#count_toptrader_long_short_ratio  0.06 左右\n",
    "#sum_toptrader_long_short_ratio  std 0.04+0.09"
   ]
  },
  {
   "cell_type": "code",
   "execution_count": null,
   "id": "ab7f65b0-80ea-4007-a71d-5608e18fa9d0",
   "metadata": {},
   "outputs": [],
   "source": []
  }
 ],
 "metadata": {
  "kernelspec": {
   "display_name": "nautilus",
   "language": "python",
   "name": "nautilus-trader-py3.10"
  },
  "language_info": {
   "codemirror_mode": {
    "name": "ipython",
    "version": 3
   },
   "file_extension": ".py",
   "mimetype": "text/x-python",
   "name": "python",
   "nbconvert_exporter": "python",
   "pygments_lexer": "ipython3",
   "version": "3.10.6"
  }
 },
 "nbformat": 4,
 "nbformat_minor": 5
}
