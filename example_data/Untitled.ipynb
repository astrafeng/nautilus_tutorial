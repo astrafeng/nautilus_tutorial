{
 "cells": [
  {
   "cell_type": "code",
   "execution_count": 99,
   "id": "fca23c85-02c2-467a-85a2-396e45215a6b",
   "metadata": {},
   "outputs": [],
   "source": [
    "import pandas as pd"
   ]
  },
  {
   "cell_type": "code",
   "execution_count": 100,
   "id": "495bf9eb-cff8-4722-8484-be28ff70d5ba",
   "metadata": {},
   "outputs": [],
   "source": [
    "df = pd.read_parquet(\"test.parquet\")"
   ]
  },
  {
   "cell_type": "code",
   "execution_count": 101,
   "id": "dfade4a1-9144-4b1e-bf68-0b117703179b",
   "metadata": {},
   "outputs": [],
   "source": [
    " df = df.set_index([\"instrument\",\"datetime\"])"
   ]
  },
  {
   "cell_type": "code",
   "execution_count": 102,
   "id": "a755fd76-b65f-46f1-b4c5-efbaa218990b",
   "metadata": {},
   "outputs": [
    {
     "data": {
      "text/plain": [
       "instrument  datetime  \n",
       "SH600000    2005-01-04          NaN\n",
       "            2005-01-05     1.000000\n",
       "            2005-01-06     0.984012\n",
       "            2005-01-07     0.970930\n",
       "            2005-01-10     0.973837\n",
       "                            ...    \n",
       "SZ300677    2021-06-07    10.258013\n",
       "            2021-06-08    10.196334\n",
       "            2021-06-09     9.711574\n",
       "            2021-06-10     9.749160\n",
       "            2021-06-11     9.647003\n",
       "Name: $close, Length: 2293006, dtype: float32"
      ]
     },
     "execution_count": 102,
     "metadata": {},
     "output_type": "execute_result"
    }
   ],
   "source": [
    "df.groupby(level=\"instrument\")[\"$close\"].shift(1)"
   ]
  },
  {
   "cell_type": "code",
   "execution_count": 74,
   "id": "32b881b6-2e80-4ad9-b9f6-187e04fcf1e6",
   "metadata": {},
   "outputs": [
    {
     "name": "stdout",
     "output_type": "stream",
     "text": [
      "[1. 2. 3. 4. 3.]\n"
     ]
    }
   ],
   "source": [
    "import numpy as np\n",
    "\n",
    "def moving_average(x, w):\n",
    "    return np.convolve(x, np.ones(w), 'same') / w\n",
    "\n",
    "x = np.array([1, 2, 3, 4, 5])\n",
    "w = 3\n",
    "\n",
    "result = moving_average(x, w)\n",
    "print(result)\n"
   ]
  },
  {
   "cell_type": "code",
   "execution_count": 82,
   "id": "bfe4d96f-207a-4555-aa82-edfa0564930f",
   "metadata": {},
   "outputs": [
    {
     "data": {
      "text/html": [
       "<div><style>\n",
       ".dataframe > thead > tr > th,\n",
       ".dataframe > tbody > tr > td {\n",
       "  text-align: right;\n",
       "}\n",
       "</style>\n",
       "<small>shape: (4, 2)</small><table border=\"1\" class=\"dataframe\"><thead><tr><th>a</th><th>b</th></tr><tr><td>i64</td><td>i64</td></tr></thead><tbody><tr><td>1</td><td>4</td></tr><tr><td>2</td><td>5</td></tr><tr><td>3</td><td>6</td></tr><tr><td>4</td><td>7</td></tr></tbody></table></div>"
      ],
      "text/plain": [
       "shape: (4, 2)\n",
       "┌─────┬─────┐\n",
       "│ a   ┆ b   │\n",
       "│ --- ┆ --- │\n",
       "│ i64 ┆ i64 │\n",
       "╞═════╪═════╡\n",
       "│ 1   ┆ 4   │\n",
       "│ 2   ┆ 5   │\n",
       "│ 3   ┆ 6   │\n",
       "│ 4   ┆ 7   │\n",
       "└─────┴─────┘"
      ]
     },
     "execution_count": 82,
     "metadata": {},
     "output_type": "execute_result"
    }
   ],
   "source": [
    "df = pl.DataFrame(\n",
    "    {\n",
    "        \"a\": [1, 2, 3, 4],\n",
    "        \"b\": [4, 5, 6, 7],\n",
    "    }\n",
    ")\n",
    "df"
   ]
  },
  {
   "cell_type": "code",
   "execution_count": 103,
   "id": "3c882977-5a7c-4c6a-a918-666fd6ba90ea",
   "metadata": {},
   "outputs": [],
   "source": [
    "import polars as pl"
   ]
  },
  {
   "cell_type": "code",
   "execution_count": 104,
   "id": "19f6bf8f-7ea9-4e80-a800-1030fa4f6571",
   "metadata": {},
   "outputs": [],
   "source": [
    "dp = pl.read_parquet(\"test.parquet\")"
   ]
  },
  {
   "cell_type": "code",
   "execution_count": 114,
   "id": "da217e16-1eb3-47ac-afcd-3a9ed178a796",
   "metadata": {},
   "outputs": [
    {
     "data": {
      "text/html": [
       "<div><style>\n",
       ".dataframe > thead > tr > th,\n",
       ".dataframe > tbody > tr > td {\n",
       "  text-align: right;\n",
       "}\n",
       "</style>\n",
       "<small>shape: (19_975, 1)</small><table border=\"1\" class=\"dataframe\"><thead><tr><th>$close</th></tr><tr><td>f32</td></tr></thead><tbody><tr><td>1.0</td></tr><tr><td>1.014657</td></tr><tr><td>1.006962</td></tr><tr><td>1.009265</td></tr><tr><td>1.020867</td></tr><tr><td>1.022592</td></tr><tr><td>1.024812</td></tr><tr><td>1.026089</td></tr><tr><td>1.012844</td></tr><tr><td>0.989975</td></tr><tr><td>1.003301</td></tr><tr><td>0.997095</td></tr><tr><td>&hellip;</td></tr><tr><td>7.657199</td></tr><tr><td>7.695034</td></tr><tr><td>7.85296</td></tr><tr><td>7.687865</td></tr><tr><td>7.791088</td></tr><tr><td>7.903114</td></tr><tr><td>7.778468</td></tr><tr><td>7.680057</td></tr><tr><td>7.743913</td></tr><tr><td>7.699321</td></tr><tr><td>7.784056</td></tr><tr><td>7.756538</td></tr></tbody></table></div>"
      ],
      "text/plain": [
       "shape: (19_975, 1)\n",
       "┌──────────┐\n",
       "│ $close   │\n",
       "│ ---      │\n",
       "│ f32      │\n",
       "╞══════════╡\n",
       "│ 1.0      │\n",
       "│ 1.014657 │\n",
       "│ 1.006962 │\n",
       "│ 1.009265 │\n",
       "│ …        │\n",
       "│ 7.743913 │\n",
       "│ 7.699321 │\n",
       "│ 7.784056 │\n",
       "│ 7.756538 │\n",
       "└──────────┘"
      ]
     },
     "execution_count": 114,
     "metadata": {},
     "output_type": "execute_result"
    }
   ],
   "source": [
    "dp.groupby([\"datetime\",\"ind\"],maintain_order=True).apply( lambda df: df.select(pl.col(\"$close\").mean()))"
   ]
  },
  {
   "cell_type": "code",
   "execution_count": null,
   "id": "d3340f2f-8132-43ec-a88e-838f9601152b",
   "metadata": {},
   "outputs": [],
   "source": []
  },
  {
   "cell_type": "code",
   "execution_count": null,
   "id": "1b6c6954-b699-42f6-a5e3-47098c2a8ecc",
   "metadata": {},
   "outputs": [],
   "source": []
  },
  {
   "cell_type": "code",
   "execution_count": null,
   "id": "1eebef8c-51ce-4d89-a48e-037442b77871",
   "metadata": {},
   "outputs": [],
   "source": []
  },
  {
   "cell_type": "code",
   "execution_count": null,
   "id": "4c7e94e0-0d92-466d-af6f-cdae5025dc69",
   "metadata": {},
   "outputs": [],
   "source": []
  },
  {
   "cell_type": "code",
   "execution_count": null,
   "id": "10474c7d-aca3-47ba-b005-b2ecc056d408",
   "metadata": {},
   "outputs": [],
   "source": []
  },
  {
   "cell_type": "code",
   "execution_count": 64,
   "id": "d7843069-bd07-4cab-916e-5227f59ede82",
   "metadata": {},
   "outputs": [],
   "source": [
    "import polars as pl\n",
    "\n",
    "# Construct the sample polars dataframe\n",
    "bb = pl.DataFrame({\n",
    "    \"ticker\":[\"a\"]*8 + [\"b\"]*8,\n",
    "    \"price\":list(range(1, 17))\n",
    "})"
   ]
  },
  {
   "cell_type": "code",
   "execution_count": null,
   "id": "94ac9416-8f95-4ab2-9430-826b164ac586",
   "metadata": {},
   "outputs": [],
   "source": [
    "bb.select(pl."
   ]
  },
  {
   "cell_type": "code",
   "execution_count": 119,
   "id": "21e1cea8-52bc-4bb9-bccf-71200b466e49",
   "metadata": {},
   "outputs": [],
   "source": [
    "bb1 = bb.select([\n",
    "    pl.col(\"ticker\"),\n",
    "    pl.col(\"price\"),\n",
    "    pl.col(\"price\").apply(lambda x:moving_average(x,5)).over(\"ticker\").alias(\"MAvg\")\n",
    "])"
   ]
  },
  {
   "cell_type": "code",
   "execution_count": 120,
   "id": "9dcca15a-fead-4aef-824c-1acd9903cb84",
   "metadata": {},
   "outputs": [
    {
     "data": {
      "text/html": [
       "<div><style>\n",
       ".dataframe > thead > tr > th,\n",
       ".dataframe > tbody > tr > td {\n",
       "  text-align: right;\n",
       "}\n",
       "</style>\n",
       "<small>shape: (16, 3)</small><table border=\"1\" class=\"dataframe\"><thead><tr><th>ticker</th><th>price</th><th>MAvg</th></tr><tr><td>str</td><td>i64</td><td>object</td></tr></thead><tbody><tr><td>&quot;a&quot;</td><td>1</td><td>[1.2 2.  3.  4.  5.  6.  5.2 4.2]</td></tr><tr><td>&quot;a&quot;</td><td>2</td><td>[1.2 2.  3.  4.  5.  6.  5.2 4.2]</td></tr><tr><td>&quot;a&quot;</td><td>3</td><td>[1.2 2.  3.  4.  5.  6.  5.2 4.2]</td></tr><tr><td>&quot;a&quot;</td><td>4</td><td>[1.2 2.  3.  4.  5.  6.  5.2 4.2]</td></tr><tr><td>&quot;a&quot;</td><td>5</td><td>[1.2 2.  3.  4.  5.  6.  5.2 4.2]</td></tr><tr><td>&quot;a&quot;</td><td>6</td><td>[1.2 2.  3.  4.  5.  6.  5.2 4.2]</td></tr><tr><td>&quot;a&quot;</td><td>7</td><td>[1.2 2.  3.  4.  5.  6.  5.2 4.2]</td></tr><tr><td>&quot;a&quot;</td><td>8</td><td>[1.2 2.  3.  4.  5.  6.  5.2 4.2]</td></tr><tr><td>&quot;b&quot;</td><td>9</td><td>[ 6.   8.4 11.  12.  13.  14.  11.6  9. ]</td></tr><tr><td>&quot;b&quot;</td><td>10</td><td>[ 6.   8.4 11.  12.  13.  14.  11.6  9. ]</td></tr><tr><td>&quot;b&quot;</td><td>11</td><td>[ 6.   8.4 11.  12.  13.  14.  11.6  9. ]</td></tr><tr><td>&quot;b&quot;</td><td>12</td><td>[ 6.   8.4 11.  12.  13.  14.  11.6  9. ]</td></tr><tr><td>&quot;b&quot;</td><td>13</td><td>[ 6.   8.4 11.  12.  13.  14.  11.6  9. ]</td></tr><tr><td>&quot;b&quot;</td><td>14</td><td>[ 6.   8.4 11.  12.  13.  14.  11.6  9. ]</td></tr><tr><td>&quot;b&quot;</td><td>15</td><td>[ 6.   8.4 11.  12.  13.  14.  11.6  9. ]</td></tr><tr><td>&quot;b&quot;</td><td>16</td><td>[ 6.   8.4 11.  12.  13.  14.  11.6  9. ]</td></tr></tbody></table></div>"
      ],
      "text/plain": [
       "shape: (16, 3)\n",
       "┌────────┬───────┬───────────────────────────────────┐\n",
       "│ ticker ┆ price ┆ MAvg                              │\n",
       "│ ---    ┆ ---   ┆ ---                               │\n",
       "│ str    ┆ i64   ┆ object                            │\n",
       "╞════════╪═══════╪═══════════════════════════════════╡\n",
       "│ a      ┆ 1     ┆ [1.2 2.  3.  4.  5.  6.  5.2 4.2… │\n",
       "│ a      ┆ 2     ┆ [1.2 2.  3.  4.  5.  6.  5.2 4.2… │\n",
       "│ a      ┆ 3     ┆ [1.2 2.  3.  4.  5.  6.  5.2 4.2… │\n",
       "│ a      ┆ 4     ┆ [1.2 2.  3.  4.  5.  6.  5.2 4.2… │\n",
       "│ …      ┆ …     ┆ …                                 │\n",
       "│ b      ┆ 13    ┆ [ 6.   8.4 11.  12.  13.  14.  1… │\n",
       "│ b      ┆ 14    ┆ [ 6.   8.4 11.  12.  13.  14.  1… │\n",
       "│ b      ┆ 15    ┆ [ 6.   8.4 11.  12.  13.  14.  1… │\n",
       "│ b      ┆ 16    ┆ [ 6.   8.4 11.  12.  13.  14.  1… │\n",
       "└────────┴───────┴───────────────────────────────────┘"
      ]
     },
     "execution_count": 120,
     "metadata": {},
     "output_type": "execute_result"
    }
   ],
   "source": [
    "bb1"
   ]
  },
  {
   "cell_type": "code",
   "execution_count": 98,
   "id": "635bdad3-5c44-4d82-a1af-58f93e2ff49a",
   "metadata": {},
   "outputs": [
    {
     "data": {
      "text/html": [
       "<div><style>\n",
       ".dataframe > thead > tr > th,\n",
       ".dataframe > tbody > tr > td {\n",
       "  text-align: right;\n",
       "}\n",
       "</style>\n",
       "<small>shape: (8, 3)</small><table border=\"1\" class=\"dataframe\"><thead><tr><th>ticker</th><th>price</th><th>MAvg</th></tr><tr><td>str</td><td>i64</td><td>i64</td></tr></thead><tbody><tr><td>&quot;b&quot;</td><td>9</td><td>null</td></tr><tr><td>&quot;b&quot;</td><td>10</td><td>null</td></tr><tr><td>&quot;b&quot;</td><td>11</td><td>null</td></tr><tr><td>&quot;b&quot;</td><td>12</td><td>null</td></tr><tr><td>&quot;b&quot;</td><td>13</td><td>11</td></tr><tr><td>&quot;b&quot;</td><td>14</td><td>12</td></tr><tr><td>&quot;b&quot;</td><td>15</td><td>13</td></tr><tr><td>&quot;b&quot;</td><td>16</td><td>14</td></tr></tbody></table></div>"
      ],
      "text/plain": [
       "shape: (8, 3)\n",
       "┌────────┬───────┬──────┐\n",
       "│ ticker ┆ price ┆ MAvg │\n",
       "│ ---    ┆ ---   ┆ ---  │\n",
       "│ str    ┆ i64   ┆ i64  │\n",
       "╞════════╪═══════╪══════╡\n",
       "│ b      ┆ 9     ┆ null │\n",
       "│ b      ┆ 10    ┆ null │\n",
       "│ b      ┆ 11    ┆ null │\n",
       "│ b      ┆ 12    ┆ null │\n",
       "│ b      ┆ 13    ┆ 11   │\n",
       "│ b      ┆ 14    ┆ 12   │\n",
       "│ b      ┆ 15    ┆ 13   │\n",
       "│ b      ┆ 16    ┆ 14   │\n",
       "└────────┴───────┴──────┘"
      ]
     },
     "execution_count": 98,
     "metadata": {},
     "output_type": "execute_result"
    }
   ],
   "source": [
    "bb1.filter(pl.col(\"ticker\")==\"b\")"
   ]
  },
  {
   "cell_type": "code",
   "execution_count": 77,
   "id": "096a0993-1671-4730-ba63-34b0652ce7dc",
   "metadata": {},
   "outputs": [
    {
     "data": {
      "text/html": [
       "<div><style>\n",
       ".dataframe > thead > tr > th,\n",
       ".dataframe > tbody > tr > td {\n",
       "  text-align: right;\n",
       "}\n",
       "</style>\n",
       "<small>shape: (8, 3)</small><table border=\"1\" class=\"dataframe\"><thead><tr><th>ticker</th><th>price</th><th>MAvg</th></tr><tr><td>str</td><td>i64</td><td>object</td></tr></thead><tbody><tr><td>&quot;b&quot;</td><td>9</td><td>[ 6.   8.4 11.  12.  13.  14.  11.6  9. ]</td></tr><tr><td>&quot;b&quot;</td><td>10</td><td>[ 6.   8.4 11.  12.  13.  14.  11.6  9. ]</td></tr><tr><td>&quot;b&quot;</td><td>11</td><td>[ 6.   8.4 11.  12.  13.  14.  11.6  9. ]</td></tr><tr><td>&quot;b&quot;</td><td>12</td><td>[ 6.   8.4 11.  12.  13.  14.  11.6  9. ]</td></tr><tr><td>&quot;b&quot;</td><td>13</td><td>[ 6.   8.4 11.  12.  13.  14.  11.6  9. ]</td></tr><tr><td>&quot;b&quot;</td><td>14</td><td>[ 6.   8.4 11.  12.  13.  14.  11.6  9. ]</td></tr><tr><td>&quot;b&quot;</td><td>15</td><td>[ 6.   8.4 11.  12.  13.  14.  11.6  9. ]</td></tr><tr><td>&quot;b&quot;</td><td>16</td><td>[ 6.   8.4 11.  12.  13.  14.  11.6  9. ]</td></tr></tbody></table></div>"
      ],
      "text/plain": [
       "shape: (8, 3)\n",
       "┌────────┬───────┬───────────────────────────────────┐\n",
       "│ ticker ┆ price ┆ MAvg                              │\n",
       "│ ---    ┆ ---   ┆ ---                               │\n",
       "│ str    ┆ i64   ┆ object                            │\n",
       "╞════════╪═══════╪═══════════════════════════════════╡\n",
       "│ b      ┆ 9     ┆ [ 6.   8.4 11.  12.  13.  14.  1… │\n",
       "│ b      ┆ 10    ┆ [ 6.   8.4 11.  12.  13.  14.  1… │\n",
       "│ b      ┆ 11    ┆ [ 6.   8.4 11.  12.  13.  14.  1… │\n",
       "│ b      ┆ 12    ┆ [ 6.   8.4 11.  12.  13.  14.  1… │\n",
       "│ b      ┆ 13    ┆ [ 6.   8.4 11.  12.  13.  14.  1… │\n",
       "│ b      ┆ 14    ┆ [ 6.   8.4 11.  12.  13.  14.  1… │\n",
       "│ b      ┆ 15    ┆ [ 6.   8.4 11.  12.  13.  14.  1… │\n",
       "│ b      ┆ 16    ┆ [ 6.   8.4 11.  12.  13.  14.  1… │\n",
       "└────────┴───────┴───────────────────────────────────┘"
      ]
     },
     "execution_count": 77,
     "metadata": {},
     "output_type": "execute_result"
    }
   ],
   "source": [
    "bb1.filter(pl.col(\"ticker\")==\"b\")"
   ]
  },
  {
   "cell_type": "code",
   "execution_count": 121,
   "id": "db7b5ddc-8ab4-4db6-8e1f-3f45a1a94cc3",
   "metadata": {},
   "outputs": [],
   "source": [
    "bb2 = bb.filter(pl.col(\"ticker\")==\"b\").select([\n",
    "    pl.col(\"ticker\"),\n",
    "    pl.col(\"price\"),\n",
    "    pl.col(\"price\").rolling_mean(5).alias(\"MAvg\")\n",
    "])"
   ]
  },
  {
   "cell_type": "code",
   "execution_count": 122,
   "id": "6fdf77f9-a432-45c0-8668-8a9941525ab8",
   "metadata": {},
   "outputs": [
    {
     "data": {
      "text/html": [
       "<div><style>\n",
       ".dataframe > thead > tr > th,\n",
       ".dataframe > tbody > tr > td {\n",
       "  text-align: right;\n",
       "}\n",
       "</style>\n",
       "<small>shape: (8, 3)</small><table border=\"1\" class=\"dataframe\"><thead><tr><th>ticker</th><th>price</th><th>MAvg</th></tr><tr><td>str</td><td>i64</td><td>f64</td></tr></thead><tbody><tr><td>&quot;b&quot;</td><td>9</td><td>null</td></tr><tr><td>&quot;b&quot;</td><td>10</td><td>null</td></tr><tr><td>&quot;b&quot;</td><td>11</td><td>null</td></tr><tr><td>&quot;b&quot;</td><td>12</td><td>null</td></tr><tr><td>&quot;b&quot;</td><td>13</td><td>11.0</td></tr><tr><td>&quot;b&quot;</td><td>14</td><td>12.0</td></tr><tr><td>&quot;b&quot;</td><td>15</td><td>13.0</td></tr><tr><td>&quot;b&quot;</td><td>16</td><td>14.0</td></tr></tbody></table></div>"
      ],
      "text/plain": [
       "shape: (8, 3)\n",
       "┌────────┬───────┬──────┐\n",
       "│ ticker ┆ price ┆ MAvg │\n",
       "│ ---    ┆ ---   ┆ ---  │\n",
       "│ str    ┆ i64   ┆ f64  │\n",
       "╞════════╪═══════╪══════╡\n",
       "│ b      ┆ 9     ┆ null │\n",
       "│ b      ┆ 10    ┆ null │\n",
       "│ b      ┆ 11    ┆ null │\n",
       "│ b      ┆ 12    ┆ null │\n",
       "│ b      ┆ 13    ┆ 11.0 │\n",
       "│ b      ┆ 14    ┆ 12.0 │\n",
       "│ b      ┆ 15    ┆ 13.0 │\n",
       "│ b      ┆ 16    ┆ 14.0 │\n",
       "└────────┴───────┴──────┘"
      ]
     },
     "execution_count": 122,
     "metadata": {},
     "output_type": "execute_result"
    }
   ],
   "source": [
    "bb2"
   ]
  },
  {
   "cell_type": "code",
   "execution_count": 84,
   "id": "c03acbab-6e33-4db1-9b75-6b368659c077",
   "metadata": {},
   "outputs": [
    {
     "data": {
      "text/html": [
       "<div><style>\n",
       ".dataframe > thead > tr > th,\n",
       ".dataframe > tbody > tr > td {\n",
       "  text-align: right;\n",
       "}\n",
       "</style>\n",
       "<small>shape: (4, 3)</small><table border=\"1\" class=\"dataframe\"><thead><tr><th>a</th><th>b</th><th>a+b+c</th></tr><tr><td>i64</td><td>i64</td><td>i64</td></tr></thead><tbody><tr><td>1</td><td>4</td><td>6</td></tr><tr><td>2</td><td>5</td><td>8</td></tr><tr><td>3</td><td>6</td><td>10</td></tr><tr><td>4</td><td>7</td><td>12</td></tr></tbody></table></div>"
      ],
      "text/plain": [
       "shape: (4, 3)\n",
       "┌─────┬─────┬───────┐\n",
       "│ a   ┆ b   ┆ a+b+c │\n",
       "│ --- ┆ --- ┆ ---   │\n",
       "│ i64 ┆ i64 ┆ i64   │\n",
       "╞═════╪═════╪═══════╡\n",
       "│ 1   ┆ 4   ┆ 6     │\n",
       "│ 2   ┆ 5   ┆ 8     │\n",
       "│ 3   ┆ 6   ┆ 10    │\n",
       "│ 4   ┆ 7   ┆ 12    │\n",
       "└─────┴─────┴───────┘"
      ]
     },
     "execution_count": 84,
     "metadata": {},
     "output_type": "execute_result"
    }
   ],
   "source": [
    "def test_func(a, b, c):\n",
    "    return a + b + c\n",
    "\n",
    "df = pl.DataFrame(\n",
    "    {\n",
    "        \"a\": [1, 2, 3, 4],\n",
    "        \"b\": [4, 5, 6, 7],\n",
    "    }\n",
    ")\n",
    "\n",
    "df.with_columns(\n",
    "    (\n",
    "        pl.struct([\"a\", \"b\"]).map(\n",
    "            lambda x: test_func(x.struct.field(\"a\"), x.struct.field(\"b\"), 1)\n",
    "        )\n",
    "    ).alias(\"a+b+c\")\n",
    ")"
   ]
  },
  {
   "cell_type": "code",
   "execution_count": 115,
   "id": "3e9d00ed-0507-4056-bf67-69afdce96831",
   "metadata": {},
   "outputs": [],
   "source": [
    "import pandas as pd\n",
    "import polars as pl\n",
    "\n",
    "\n",
    "df = pl.DataFrame(\n",
    "    {\n",
    "        \"g\": [\"a\", \"a\", \"a\", \"b\", \"b\", \"b\", \"c\", \"c\", \"c\",],\n",
    "        \"v\": [1, 1, 1, 2, 2, 2, 3, 3, 3],\n",
    "    }\n",
    ")\n"
   ]
  },
  {
   "cell_type": "code",
   "execution_count": 116,
   "id": "fda6b521-30b3-482f-9665-a4047a34a9c9",
   "metadata": {},
   "outputs": [
    {
     "data": {
      "text/html": [
       "<div><style>\n",
       ".dataframe > thead > tr > th,\n",
       ".dataframe > tbody > tr > td {\n",
       "  text-align: right;\n",
       "}\n",
       "</style>\n",
       "<small>shape: (9, 2)</small><table border=\"1\" class=\"dataframe\"><thead><tr><th>g</th><th>v</th></tr><tr><td>str</td><td>i64</td></tr></thead><tbody><tr><td>&quot;a&quot;</td><td>1</td></tr><tr><td>&quot;a&quot;</td><td>1</td></tr><tr><td>&quot;a&quot;</td><td>1</td></tr><tr><td>&quot;b&quot;</td><td>2</td></tr><tr><td>&quot;b&quot;</td><td>2</td></tr><tr><td>&quot;b&quot;</td><td>2</td></tr><tr><td>&quot;c&quot;</td><td>3</td></tr><tr><td>&quot;c&quot;</td><td>3</td></tr><tr><td>&quot;c&quot;</td><td>3</td></tr></tbody></table></div>"
      ],
      "text/plain": [
       "shape: (9, 2)\n",
       "┌─────┬─────┐\n",
       "│ g   ┆ v   │\n",
       "│ --- ┆ --- │\n",
       "│ str ┆ i64 │\n",
       "╞═════╪═════╡\n",
       "│ a   ┆ 1   │\n",
       "│ a   ┆ 1   │\n",
       "│ a   ┆ 1   │\n",
       "│ b   ┆ 2   │\n",
       "│ b   ┆ 2   │\n",
       "│ b   ┆ 2   │\n",
       "│ c   ┆ 3   │\n",
       "│ c   ┆ 3   │\n",
       "│ c   ┆ 3   │\n",
       "└─────┴─────┘"
      ]
     },
     "execution_count": 116,
     "metadata": {},
     "output_type": "execute_result"
    }
   ],
   "source": [
    "df"
   ]
  },
  {
   "cell_type": "code",
   "execution_count": 117,
   "id": "efe91470-04e6-4aee-8e42-6b5318add1a6",
   "metadata": {},
   "outputs": [
    {
     "name": "stdout",
     "output_type": "stream",
     "text": [
      "shape: (9,)\n",
      "Series: 'v' [i64]\n",
      "[\n",
      "\t1\n",
      "\t1\n",
      "\t1\n",
      "\t2\n",
      "\t2\n",
      "\t2\n",
      "\t3\n",
      "\t3\n",
      "\t3\n",
      "]\n"
     ]
    },
    {
     "data": {
      "text/html": [
       "<div><style>\n",
       ".dataframe > thead > tr > th,\n",
       ".dataframe > tbody > tr > td {\n",
       "  text-align: right;\n",
       "}\n",
       "</style>\n",
       "<small>shape: (9, 3)</small><table border=\"1\" class=\"dataframe\"><thead><tr><th>g</th><th>v</th><th>r</th></tr><tr><td>str</td><td>i64</td><td>i64</td></tr></thead><tbody><tr><td>&quot;a&quot;</td><td>1</td><td>1</td></tr><tr><td>&quot;a&quot;</td><td>1</td><td>1</td></tr><tr><td>&quot;a&quot;</td><td>1</td><td>1</td></tr><tr><td>&quot;b&quot;</td><td>2</td><td>2</td></tr><tr><td>&quot;b&quot;</td><td>2</td><td>2</td></tr><tr><td>&quot;b&quot;</td><td>2</td><td>2</td></tr><tr><td>&quot;c&quot;</td><td>3</td><td>3</td></tr><tr><td>&quot;c&quot;</td><td>3</td><td>3</td></tr><tr><td>&quot;c&quot;</td><td>3</td><td>3</td></tr></tbody></table></div>"
      ],
      "text/plain": [
       "shape: (9, 3)\n",
       "┌─────┬─────┬─────┐\n",
       "│ g   ┆ v   ┆ r   │\n",
       "│ --- ┆ --- ┆ --- │\n",
       "│ str ┆ i64 ┆ i64 │\n",
       "╞═════╪═════╪═════╡\n",
       "│ a   ┆ 1   ┆ 1   │\n",
       "│ a   ┆ 1   ┆ 1   │\n",
       "│ a   ┆ 1   ┆ 1   │\n",
       "│ b   ┆ 2   ┆ 2   │\n",
       "│ b   ┆ 2   ┆ 2   │\n",
       "│ b   ┆ 2   ┆ 2   │\n",
       "│ c   ┆ 3   ┆ 3   │\n",
       "│ c   ┆ 3   ┆ 3   │\n",
       "│ c   ┆ 3   ┆ 3   │\n",
       "└─────┴─────┴─────┘"
      ]
     },
     "execution_count": 117,
     "metadata": {},
     "output_type": "execute_result"
    }
   ],
   "source": [
    "df.with_columns([\n",
    "   pl.col(\"v\").map(lambda x: [print(x), x][1]).over(\"g\").alias(\"r\"),\n",
    "])"
   ]
  },
  {
   "cell_type": "code",
   "execution_count": null,
   "id": "ae2e74ef-7476-4bdd-81af-6bbb6cd95012",
   "metadata": {},
   "outputs": [],
   "source": []
  }
 ],
 "metadata": {
  "kernelspec": {
   "display_name": "Python 3 (ipykernel)",
   "language": "python",
   "name": "python3"
  },
  "language_info": {
   "codemirror_mode": {
    "name": "ipython",
    "version": 3
   },
   "file_extension": ".py",
   "mimetype": "text/x-python",
   "name": "python",
   "nbconvert_exporter": "python",
   "pygments_lexer": "ipython3",
   "version": "3.10.6"
  }
 },
 "nbformat": 4,
 "nbformat_minor": 5
}
