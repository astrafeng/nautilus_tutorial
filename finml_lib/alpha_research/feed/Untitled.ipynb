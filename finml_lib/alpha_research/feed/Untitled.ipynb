{
 "cells": [
  {
   "cell_type": "code",
   "execution_count": null,
   "id": "aa6db691-b69e-4834-9a2f-dc52b6dbc0f8",
   "metadata": {},
   "outputs": [],
   "source": [
    "import polars as pl\n",
    "from expr_engine import ExprEngine"
   ]
  },
  {
   "cell_type": "code",
   "execution_count": null,
   "id": "4bc4d397-3db0-4966-bbd4-e53d475634b6",
   "metadata": {},
   "outputs": [],
   "source": [
    "expr = ExprEngine()\n",
    "expr.init()"
   ]
  },
  {
   "cell_type": "code",
   "execution_count": null,
   "id": "5309635a-495b-4fd1-b7c1-12ade5ae2294",
   "metadata": {},
   "outputs": [],
   "source": [
    "df = pl.scan_parquet(\"../../../example_data/tools/crypto.parquet\")"
   ]
  },
  {
   "cell_type": "code",
   "execution_count": null,
   "id": "f88a450c-c6d5-4063-9009-e2f41bf97a43",
   "metadata": {},
   "outputs": [],
   "source": [
    "df = df.with_columns(pl.col(\"open_time\").alias(\"datetime\"))"
   ]
  },
  {
   "cell_type": "code",
   "execution_count": null,
   "id": "dbbcc9e5-bc49-4378-8c14-9ebd7566a40b",
   "metadata": {},
   "outputs": [],
   "source": [
    "df = df.sort(by=[\"symbol\",\"datetime\"])"
   ]
  },
  {
   "cell_type": "code",
   "execution_count": null,
   "id": "344f1fec-2f0c-4673-bacd-7b284fabc802",
   "metadata": {},
   "outputs": [],
   "source": [
    "    f_return = \"($close/Ref($close, 1)-1)\"\n",
    "    f_adv5 = \"Mean($money, 5)\"\n",
    "    f_adv10 = \"Mean($money, 10)\"\n",
    "    f_adv15 = \"Mean($money, 15)\"\n",
    "    f_adv20 = \"Mean($money, 20)\"\n",
    "    f_adv30 = \"Mean($money, 30)\"\n",
    "    f_adv40 = \"Mean($money, 40)\"\n",
    "    f_adv50 = \"Mean($money, 50)\"\n",
    "    f_adv60 = \"Mean($money, 60)\"\n",
    "    f_adv120 = \"Mean($money, 120)\"\n",
    "    f_adv180 = \"Mean($money, 180)\""
   ]
  },
  {
   "cell_type": "code",
   "execution_count": null,
   "id": "9f0a9b78-4ab4-46a1-bafd-9ade9e9f9cd6",
   "metadata": {},
   "outputs": [],
   "source": [
    "exp = expr.get_expression(f_return)\n"
   ]
  },
  {
   "cell_type": "code",
   "execution_count": null,
   "id": "1ea20c5e-df5f-43ef-a0d7-6bb3680e5537",
   "metadata": {},
   "outputs": [],
   "source": [
    " [[([(col(\"close\")) / (col(\"close\").shift().over([col(\"symbol\")]))]) - (1)]] "
   ]
  },
  {
   "cell_type": "code",
   "execution_count": null,
   "id": "3004ac2d-3b2b-4772-8aa1-0209443b11b0",
   "metadata": {},
   "outputs": [],
   "source": [
    "df = df.filter(~pl.col(\"symbol\").is_null()).collect()"
   ]
  },
  {
   "cell_type": "code",
   "execution_count": null,
   "id": "a2e8259a-d5fc-4a8f-a179-893d727ee7b9",
   "metadata": {},
   "outputs": [],
   "source": [
    "df = df.lazy()"
   ]
  },
  {
   "cell_type": "code",
   "execution_count": null,
   "id": "3a258acb-c0bb-4db0-923f-f3b3c9ccc886",
   "metadata": {},
   "outputs": [],
   "source": [
    "exp = expr.get_expression(f_return)"
   ]
  },
  {
   "cell_type": "code",
   "execution_count": null,
   "id": "33c9a7f4-1339-4720-adb6-26245b07cfe5",
   "metadata": {},
   "outputs": [],
   "source": [
    "exp2 = expr.get_expression(f_adv5)"
   ]
  },
  {
   "cell_type": "code",
   "execution_count": null,
   "id": "0f339096-dbe3-4749-89ae-65dd23623fee",
   "metadata": {},
   "outputs": [],
   "source": [
    "df = df.with_columns(money=pl.col(\"close\")*pl.col(\"volume\"))"
   ]
  },
  {
   "cell_type": "code",
   "execution_count": null,
   "id": "6d1d14a2-a621-4a12-8f4d-c00e36e8d652",
   "metadata": {},
   "outputs": [],
   "source": [
    "df.with_columns(f_adv5 = exp2.expr)"
   ]
  },
  {
   "cell_type": "code",
   "execution_count": null,
   "id": "70197ff6-cad3-4dba-8413-ef5108218b47",
   "metadata": {},
   "outputs": [],
   "source": [
    "df.with_columns(f_adv5 = exp2.expr).collect()"
   ]
  },
  {
   "cell_type": "code",
   "execution_count": null,
   "id": "c1ad2c73-c131-4168-ac5d-cc9efb558353",
   "metadata": {},
   "outputs": [],
   "source": [
    "df.select(pl.col(\"money\").rolling_mean(20).over([pl.col(\"symbol\")]).alias(\"f_adv5\"))"
   ]
  },
  {
   "cell_type": "code",
   "execution_count": null,
   "id": "0213e840-5e0c-4dc4-a3fa-a83b8e00c358",
   "metadata": {},
   "outputs": [],
   "source": [
    " pl.show_versions()"
   ]
  },
  {
   "cell_type": "code",
   "execution_count": null,
   "id": "9ff4ce50-92a1-4bbc-8255-507e4aefa0bb",
   "metadata": {},
   "outputs": [],
   "source": [
    "alpha001 =  f\"CSRank(IdxMax(Power(If({f_return}<0, Std({f_return}, 20), $close), 2), 5))-0.5\""
   ]
  },
  {
   "cell_type": "code",
   "execution_count": null,
   "id": "6781ab3b-ec0d-49d7-83dc-1ddf63a77793",
   "metadata": {},
   "outputs": [],
   "source": [
    "expr3 = expr.get_expression(alpha001)"
   ]
  },
  {
   "cell_type": "code",
   "execution_count": null,
   "id": "fed9a894-54f6-454f-84b8-fb8b8250bd16",
   "metadata": {},
   "outputs": [],
   "source": [
    "df.with_columns(alpha101 = expr3.expr)"
   ]
  },
  {
   "cell_type": "code",
   "execution_count": null,
   "id": "025a800a-ddd1-4587-9b7a-ee535759fab9",
   "metadata": {},
   "outputs": [],
   "source": [
    "pl.arange(0,pl.count()).alias(\"index\").groupby_rolling(\"index\",period=5).agg(self._hs.product())"
   ]
  },
  {
   "cell_type": "code",
   "execution_count": null,
   "id": "9b053542-c6c4-42bc-a1dd-1209f65e44fe",
   "metadata": {},
   "outputs": [],
   "source": [
    "expr3.batch_update(df)"
   ]
  },
  {
   "cell_type": "code",
   "execution_count": null,
   "id": "97506e24-6d7b-4c11-892e-78ccc3e754a0",
   "metadata": {},
   "outputs": [],
   "source": [
    "x = df.with_columns(pl.col(\"close\").rolling_apply(lambda s: s.sum(),window_size = 5).over(\"symbol\"))"
   ]
  },
  {
   "cell_type": "code",
   "execution_count": null,
   "id": "085d31af-0497-443d-b54f-114e533a07ff",
   "metadata": {},
   "outputs": [],
   "source": [
    "%%time\n",
    "x.collect()"
   ]
  },
  {
   "cell_type": "code",
   "execution_count": null,
   "id": "e971ceb6-d05a-4f6f-9c8e-7b53594fa849",
   "metadata": {},
   "outputs": [],
   "source": [
    "%%time\n",
    "#df.with_columns(pl.arange(0,pl.count()).alias(\"index\")).groupby_rolling(\"index\",period=\"5i\").agg(pl.col(\"close\").mean().over(\"symbol\")).collect()"
   ]
  },
  {
   "cell_type": "code",
   "execution_count": null,
   "id": "1fee959c-fbfa-4adf-a4d0-f8ee249c26d0",
   "metadata": {},
   "outputs": [],
   "source": [
    "df.select(pl.col(\"close\").rolling_apply(lambda x:pl.rank(),5)).collect()"
   ]
  },
  {
   "cell_type": "code",
   "execution_count": null,
   "id": "80b35734-5c22-4e56-8f40-10641800bd8f",
   "metadata": {},
   "outputs": [],
   "source": [
    "import numpy as np"
   ]
  },
  {
   "cell_type": "code",
   "execution_count": null,
   "id": "ee88441d-c835-4746-bd11-07c8fd0836ad",
   "metadata": {},
   "outputs": [],
   "source": [
    "%%time\n",
    "df.select(pl.col(\"close\").rolling_mean(5).over(\"symbol\")).collect()"
   ]
  },
  {
   "cell_type": "code",
   "execution_count": null,
   "id": "b41228f8-7c19-4caa-9143-d570bb9016a9",
   "metadata": {},
   "outputs": [],
   "source": [
    "df.columns"
   ]
  },
  {
   "cell_type": "code",
   "execution_count": null,
   "id": "daa9be2b-5932-4e7c-ab6c-35f5ecbe4756",
   "metadata": {},
   "outputs": [],
   "source": [
    "%%time\n",
    "df.select(pl.col(\"close\").rolling_apply(lambda x:x.sum(),window_size=5).over(\"symbol\")).collect()"
   ]
  },
  {
   "cell_type": "code",
   "execution_count": null,
   "id": "21dcedda-a195-4ef3-981c-5ea9d8207102",
   "metadata": {},
   "outputs": [],
   "source": [
    "%%time\n",
    "w = df.select(pl.col(\"close\").rolling_apply(lambda x:x.sum(),window_size = 5).over(\"symbol\")).collect()"
   ]
  },
  {
   "cell_type": "code",
   "execution_count": null,
   "id": "2435a7d0-6ded-4463-afe6-f956ead6fb7a",
   "metadata": {},
   "outputs": [],
   "source": [
    "%%time\n",
    "w = df.groupby_rolling(\"index\",period=\"5i\",by=\"symbol\").agg(pl.col(\"close\").sum())"
   ]
  },
  {
   "cell_type": "code",
   "execution_count": null,
   "id": "d4fed488-08f0-4067-8ab8-1d83f370af4d",
   "metadata": {},
   "outputs": [],
   "source": [
    "%%time\n",
    "w.collect()"
   ]
  },
  {
   "cell_type": "code",
   "execution_count": null,
   "id": "e8dd4f34-1cf3-43b0-a157-5c1d2189dd0c",
   "metadata": {},
   "outputs": [],
   "source": [
    "pf = df.collect()."
   ]
  },
  {
   "cell_type": "code",
   "execution_count": null,
   "id": "431d8c07-4159-4753-ad2d-f779c641a677",
   "metadata": {},
   "outputs": [],
   "source": []
  },
  {
   "cell_type": "code",
   "execution_count": null,
   "id": "0c47cbc0-0b30-411f-87a0-6a308b55bfd0",
   "metadata": {},
   "outputs": [],
   "source": []
  }
 ],
 "metadata": {
  "kernelspec": {
   "display_name": "Python 3 (ipykernel)",
   "language": "python",
   "name": "python3"
  },
  "language_info": {
   "codemirror_mode": {
    "name": "ipython",
    "version": 3
   },
   "file_extension": ".py",
   "mimetype": "text/x-python",
   "name": "python",
   "nbconvert_exporter": "python",
   "pygments_lexer": "ipython3",
   "version": "3.10.6"
  }
 },
 "nbformat": 4,
 "nbformat_minor": 5
}
