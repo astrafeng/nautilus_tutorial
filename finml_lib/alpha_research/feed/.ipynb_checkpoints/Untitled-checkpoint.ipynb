{
 "cells": [
  {
   "cell_type": "code",
   "execution_count": 1,
   "id": "aa6db691-b69e-4834-9a2f-dc52b6dbc0f8",
   "metadata": {},
   "outputs": [],
   "source": [
    "import polars as pl\n",
    "from expr_engine import ExprEngine"
   ]
  },
  {
   "cell_type": "code",
   "execution_count": 2,
   "id": "4bc4d397-3db0-4966-bbd4-e53d475634b6",
   "metadata": {},
   "outputs": [],
   "source": [
    "expr = ExprEngine()\n",
    "expr.init()"
   ]
  },
  {
   "cell_type": "code",
   "execution_count": 3,
   "id": "5309635a-495b-4fd1-b7c1-12ade5ae2294",
   "metadata": {},
   "outputs": [],
   "source": [
    "df = pl.scan_parquet(\"../../../example_data/tools/crypto.parquet\")"
   ]
  },
  {
   "cell_type": "code",
   "execution_count": 4,
   "id": "f88a450c-c6d5-4063-9009-e2f41bf97a43",
   "metadata": {},
   "outputs": [],
   "source": [
    "df = df.with_columns(pl.col(\"open_time\").alias(\"datetime\"))"
   ]
  },
  {
   "cell_type": "code",
   "execution_count": 5,
   "id": "dbbcc9e5-bc49-4378-8c14-9ebd7566a40b",
   "metadata": {},
   "outputs": [],
   "source": [
    "df = df.sort(by=[\"symbol\",\"datetime\"])"
   ]
  },
  {
   "cell_type": "code",
   "execution_count": 6,
   "id": "344f1fec-2f0c-4673-bacd-7b284fabc802",
   "metadata": {},
   "outputs": [],
   "source": [
    "    f_return = \"($close/Ref($close, 1)-1)\"\n",
    "    f_adv5 = \"Mean($money, 5)\"\n",
    "    f_adv10 = \"Mean($money, 10)\"\n",
    "    f_adv15 = \"Mean($money, 15)\"\n",
    "    f_adv20 = \"Mean($money, 20)\"\n",
    "    f_adv30 = \"Mean($money, 30)\"\n",
    "    f_adv40 = \"Mean($money, 40)\"\n",
    "    f_adv50 = \"Mean($money, 50)\"\n",
    "    f_adv60 = \"Mean($money, 60)\"\n",
    "    f_adv120 = \"Mean($money, 120)\"\n",
    "    f_adv180 = \"Mean($money, 180)\""
   ]
  },
  {
   "cell_type": "code",
   "execution_count": 7,
   "id": "9f0a9b78-4ab4-46a1-bafd-9ade9e9f9cd6",
   "metadata": {},
   "outputs": [],
   "source": [
    "exp = expr.get_expression(f_return)\n"
   ]
  },
  {
   "cell_type": "code",
   "execution_count": null,
   "id": "1ea20c5e-df5f-43ef-a0d7-6bb3680e5537",
   "metadata": {},
   "outputs": [],
   "source": [
    " [[([(col(\"close\")) / (col(\"close\").shift().over([col(\"symbol\")]))]) - (1)]] "
   ]
  },
  {
   "cell_type": "code",
   "execution_count": 17,
   "id": "5230980b-2959-4506-8439-4278dfaf5ae3",
   "metadata": {},
   "outputs": [
    {
     "data": {
      "text/html": [
       "<div><style>\n",
       ".dataframe > thead > tr > th,\n",
       ".dataframe > tbody > tr > td {\n",
       "  text-align: right;\n",
       "}\n",
       "</style>\n",
       "<small>shape: (113_568, 18)</small><table border=\"1\" class=\"dataframe\"><thead><tr><th>open_time</th><th>open</th><th>high</th><th>low</th><th>close</th><th>volume</th><th>quote_volume</th><th>count</th><th>taker_buy_volume</th><th>taker_buy_quote_volume</th><th>symbol</th><th>sum_open_interest</th><th>sum_open_interest_value</th><th>count_toptrader_long_short_ratio</th><th>sum_toptrader_long_short_ratio</th><th>count_long_short_ratio</th><th>sum_taker_long_short_vol_ratio</th><th>datetime</th></tr><tr><td>i64</td><td>f64</td><td>f64</td><td>f64</td><td>f64</td><td>f64</td><td>f64</td><td>i64</td><td>f64</td><td>f64</td><td>str</td><td>f64</td><td>f64</td><td>f64</td><td>f64</td><td>f64</td><td>f64</td><td>i64</td></tr></thead><tbody><tr><td>1654013100000000000</td><td>1994.6</td><td>1995.18</td><td>1984.82</td><td>null</td><td>20993.54</td><td>4.1774e7</td><td>20044</td><td>9072.775</td><td>1.8052e7</td><td>&quot;ETHUSDT&quot;</td><td>553309.772</td><td>1.0999e9</td><td>1.577134</td><td>1.106748</td><td>1.491775</td><td>0.820092</td><td>1654013100000000000</td></tr><tr><td>1654013400000000000</td><td>1987.01</td><td>1988.74</td><td>1967.11</td><td>-0.01001</td><td>27881.097</td><td>5.5161e7</td><td>23765</td><td>8909.611</td><td>1.7629e7</td><td>&quot;ETHUSDT&quot;</td><td>554413.595</td><td>1.1067e9</td><td>1.594044</td><td>1.103091</td><td>1.51273</td><td>1.336457</td><td>1654013400000000000</td></tr><tr><td>1654013700000000000</td><td>1967.11</td><td>1973.76</td><td>1960.0</td><td>-0.002171</td><td>35933.42</td><td>7.0636e7</td><td>30252</td><td>17149.364</td><td>3.3722e7</td><td>&quot;ETHUSDT&quot;</td><td>555573.879</td><td>1.1039e9</td><td>1.586369</td><td>1.104728</td><td>1.49603</td><td>0.76109</td><td>1654013700000000000</td></tr><tr><td>1654014000000000000</td><td>1962.86</td><td>1970.03</td><td>1962.86</td><td>0.002787</td><td>16700.208</td><td>3.2849e7</td><td>14695</td><td>9067.381</td><td>1.7836e7</td><td>&quot;ETHUSDT&quot;</td><td>552445.603</td><td>1.0876e9</td><td>1.57802</td><td>1.103995</td><td>1.477135</td><td>0.469632</td><td>1654014000000000000</td></tr><tr><td>1654014300000000000</td><td>1968.32</td><td>1975.96</td><td>1968.31</td><td>0.003028</td><td>14768.749</td><td>2.9130e7</td><td>14449</td><td>8196.904</td><td>1.6169e7</td><td>&quot;ETHUSDT&quot;</td><td>549286.291</td><td>1.0779e9</td><td>1.601524</td><td>1.098426</td><td>1.50788</td><td>0.912974</td><td>1654014300000000000</td></tr><tr><td>1654014600000000000</td><td>1974.31</td><td>1975.74</td><td>1962.64</td><td>-0.000111</td><td>14669.613</td><td>2.8892e7</td><td>16016</td><td>7096.439</td><td>1.3979e7</td><td>&quot;ETHUSDT&quot;</td><td>549926.496</td><td>1.0824e9</td><td>1.61356</td><td>1.097161</td><td>1.526542</td><td>1.187945</td><td>1654014600000000000</td></tr><tr><td>1654014900000000000</td><td>1974.06</td><td>1977.77</td><td>1969.66</td><td>0.000274</td><td>10779.901</td><td>2.1283e7</td><td>12921</td><td>5586.541</td><td>1.1031e7</td><td>&quot;ETHUSDT&quot;</td><td>551263.615</td><td>1.0883e9</td><td>1.632087</td><td>1.093058</td><td>1.554802</td><td>1.247276</td><td>1654014900000000000</td></tr><tr><td>1654015200000000000</td><td>1974.59</td><td>1987.66</td><td>1972.38</td><td>0.004132</td><td>25599.043</td><td>5.0719e7</td><td>20108</td><td>14135.262</td><td>2.8007e7</td><td>&quot;ETHUSDT&quot;</td><td>551235.385</td><td>1.0881e9</td><td>1.635634</td><td>1.092485</td><td>1.5565</td><td>0.93705</td><td>1654015200000000000</td></tr><tr><td>1654015500000000000</td><td>1982.76</td><td>1986.26</td><td>1974.0</td><td>-0.00172</td><td>17690.365</td><td>3.5027e7</td><td>17430</td><td>8087.544</td><td>1.6016e7</td><td>&quot;ETHUSDT&quot;</td><td>551496.805</td><td>1.0892e9</td><td>1.641344</td><td>1.090778</td><td>1.564665</td><td>1.075708</td><td>1654015500000000000</td></tr><tr><td>1654015800000000000</td><td>1979.35</td><td>1979.94</td><td>1975.2</td><td>-0.001293</td><td>6903.189</td><td>1.3648e7</td><td>8272</td><td>3118.913</td><td>6.1665e6</td><td>&quot;ETHUSDT&quot;</td><td>554395.428</td><td>1.0995e9</td><td>1.646405</td><td>1.087783</td><td>1.572428</td><td>1.233037</td><td>1654015800000000000</td></tr><tr><td>1654016100000000000</td><td>1976.79</td><td>1978.44</td><td>1971.83</td><td>-0.00219</td><td>6150.445</td><td>1.2146e7</td><td>7758</td><td>2215.58</td><td>4.3762e6</td><td>&quot;ETHUSDT&quot;</td><td>554884.605</td><td>1.0982e9</td><td>1.638663</td><td>1.08786</td><td>1.561054</td><td>0.842205</td><td>1654016100000000000</td></tr><tr><td>1654016400000000000</td><td>1972.46</td><td>1975.85</td><td>1966.54</td><td>-0.002261</td><td>9810.655</td><td>1.9330e7</td><td>11134</td><td>3852.845</td><td>7.5917e6</td><td>&quot;ETHUSDT&quot;</td><td>555019.318</td><td>1.0970e9</td><td>1.636631</td><td>1.088125</td><td>1.559985</td><td>0.824177</td><td>1654016400000000000</td></tr><tr><td>&hellip;</td><td>&hellip;</td><td>&hellip;</td><td>&hellip;</td><td>&hellip;</td><td>&hellip;</td><td>&hellip;</td><td>&hellip;</td><td>&hellip;</td><td>&hellip;</td><td>&hellip;</td><td>&hellip;</td><td>&hellip;</td><td>&hellip;</td><td>&hellip;</td><td>&hellip;</td><td>&hellip;</td><td>&hellip;</td></tr><tr><td>1688166000000000000</td><td>1934.54</td><td>1934.54</td><td>1930.88</td><td>-0.001458</td><td>5510.73</td><td>1.0647e7</td><td>5834</td><td>1317.366</td><td>2.5450e6</td><td>&quot;ETHUSDT&quot;</td><td>829069.901</td><td>1.6026e9</td><td>1.036442</td><td>1.227281</td><td>1.025471</td><td>0.429148</td><td>1688166000000000000</td></tr><tr><td>1688166300000000000</td><td>1931.72</td><td>1932.03</td><td>1930.9</td><td>-0.000088</td><td>3354.627</td><td>6.4794e6</td><td>4593</td><td>1701.175</td><td>3.2858e6</td><td>&quot;ETHUSDT&quot;</td><td>829361.582</td><td>1.6044e9</td><td>1.036364</td><td>1.227436</td><td>1.025328</td><td>1.050322</td><td>1688166300000000000</td></tr><tr><td>1688166600000000000</td><td>1931.55</td><td>1933.62</td><td>1931.54</td><td>0.000342</td><td>3289.487</td><td>6.3578e6</td><td>4655</td><td>1932.378</td><td>3.7345e6</td><td>&quot;ETHUSDT&quot;</td><td>828872.894</td><td>1.6011e9</td><td>1.03734</td><td>1.228432</td><td>1.024334</td><td>0.314155</td><td>1688166600000000000</td></tr><tr><td>1688166900000000000</td><td>1932.21</td><td>1932.65</td><td>1931.31</td><td>0.000093</td><td>2181.902</td><td>4.2152e6</td><td>4092</td><td>878.673</td><td>1.6975e6</td><td>&quot;ETHUSDT&quot;</td><td>829583.602</td><td>1.6023e9</td><td>1.031918</td><td>1.230399</td><td>1.018894</td><td>1.032638</td><td>1688166900000000000</td></tr><tr><td>1688167200000000000</td><td>1932.38</td><td>1936.18</td><td>1931.0</td><td>0.001532</td><td>11816.375</td><td>2.2852e7</td><td>9671</td><td>7438.972</td><td>1.4387e7</td><td>&quot;ETHUSDT&quot;</td><td>830270.551</td><td>1.6048e9</td><td>1.033019</td><td>1.231904</td><td>1.019469</td><td>1.426688</td><td>1688167200000000000</td></tr><tr><td>1688167500000000000</td><td>1935.35</td><td>1937.46</td><td>1934.63</td><td>0.000341</td><td>5356.393</td><td>1.0370e7</td><td>6912</td><td>2521.269</td><td>4.8813e6</td><td>&quot;ETHUSDT&quot;</td><td>830738.854</td><td>1.6053e9</td><td>1.031527</td><td>1.232508</td><td>1.018115</td><td>0.674307</td><td>1688167500000000000</td></tr><tr><td>1688167800000000000</td><td>1936.01</td><td>1943.99</td><td>1936.0</td><td>0.001958</td><td>16148.887</td><td>3.1341e7</td><td>17186</td><td>9561.089</td><td>1.8554e7</td><td>&quot;ETHUSDT&quot;</td><td>831096.153</td><td>1.6086e9</td><td>1.031366</td><td>1.234004</td><td>1.017968</td><td>1.699403</td><td>1688167800000000000</td></tr><tr><td>1688168100000000000</td><td>1939.8</td><td>1940.72</td><td>1933.01</td><td>-0.002758</td><td>12116.182</td><td>2.3452e7</td><td>13122</td><td>4609.577</td><td>8.9216e6</td><td>&quot;ETHUSDT&quot;</td><td>832175.091</td><td>1.6114e9</td><td>1.031567</td><td>1.233042</td><td>1.018742</td><td>0.889299</td><td>1688168100000000000</td></tr><tr><td>1688168400000000000</td><td>1934.44</td><td>1936.94</td><td>1933.78</td><td>0.000114</td><td>4604.531</td><td>8.9129e6</td><td>6654</td><td>2196.154</td><td>4.2509e6</td><td>&quot;ETHUSDT&quot;</td><td>833984.192</td><td>1.6182e9</td><td>1.030676</td><td>1.234333</td><td>1.02059</td><td>1.451333</td><td>1688168400000000000</td></tr><tr><td>1688168700000000000</td><td>1934.66</td><td>1934.66</td><td>1931.27</td><td>-0.00091</td><td>8784.363</td><td>1.6980e7</td><td>9998</td><td>3581.151</td><td>6.9220e6</td><td>&quot;ETHUSDT&quot;</td><td>833970.998</td><td>1.6133e9</td><td>1.028627</td><td>1.233098</td><td>1.017453</td><td>0.614069</td><td>1688168700000000000</td></tr><tr><td>1688169000000000000</td><td>1932.89</td><td>1935.55</td><td>1932.04</td><td>0.000502</td><td>4147.842</td><td>8.0229e6</td><td>5882</td><td>2420.573</td><td>4.6819e6</td><td>&quot;ETHUSDT&quot;</td><td>834507.745</td><td>1.6147e9</td><td>1.031011</td><td>1.233764</td><td>1.018631</td><td>0.911881</td><td>1688169000000000000</td></tr><tr><td>1688169300000000000</td><td>1933.88</td><td>1933.88</td><td>1931.88</td><td>-0.000238</td><td>3870.488</td><td>7.4811e6</td><td>5438</td><td>2345.709</td><td>4.5338e6</td><td>&quot;ETHUSDT&quot;</td><td>833733.876</td><td>1.6115e9</td><td>1.028058</td><td>1.234684</td><td>1.014939</td><td>0.688258</td><td>1688169300000000000</td></tr></tbody></table></div>"
      ],
      "text/plain": [
       "shape: (113_568, 18)\n",
       "┌────────────┬─────────┬─────────┬─────────┬───┬────────────┬────────────┬────────────┬────────────┐\n",
       "│ open_time  ┆ open    ┆ high    ┆ low     ┆ … ┆ sum_toptra ┆ count_long ┆ sum_taker_ ┆ datetime   │\n",
       "│ ---        ┆ ---     ┆ ---     ┆ ---     ┆   ┆ der_long_s ┆ _short_rat ┆ long_short ┆ ---        │\n",
       "│ i64        ┆ f64     ┆ f64     ┆ f64     ┆   ┆ hort_ratio ┆ io         ┆ _vol_ratio ┆ i64        │\n",
       "│            ┆         ┆         ┆         ┆   ┆ ---        ┆ ---        ┆ ---        ┆            │\n",
       "│            ┆         ┆         ┆         ┆   ┆ f64        ┆ f64        ┆ f64        ┆            │\n",
       "╞════════════╪═════════╪═════════╪═════════╪═══╪════════════╪════════════╪════════════╪════════════╡\n",
       "│ 1654013100 ┆ 1994.6  ┆ 1995.18 ┆ 1984.82 ┆ … ┆ 1.106748   ┆ 1.491775   ┆ 0.820092   ┆ 1654013100 │\n",
       "│ 000000000  ┆         ┆         ┆         ┆   ┆            ┆            ┆            ┆ 000000000  │\n",
       "│ 1654013400 ┆ 1987.01 ┆ 1988.74 ┆ 1967.11 ┆ … ┆ 1.103091   ┆ 1.51273    ┆ 1.336457   ┆ 1654013400 │\n",
       "│ 000000000  ┆         ┆         ┆         ┆   ┆            ┆            ┆            ┆ 000000000  │\n",
       "│ 1654013700 ┆ 1967.11 ┆ 1973.76 ┆ 1960.0  ┆ … ┆ 1.104728   ┆ 1.49603    ┆ 0.76109    ┆ 1654013700 │\n",
       "│ 000000000  ┆         ┆         ┆         ┆   ┆            ┆            ┆            ┆ 000000000  │\n",
       "│ 1654014000 ┆ 1962.86 ┆ 1970.03 ┆ 1962.86 ┆ … ┆ 1.103995   ┆ 1.477135   ┆ 0.469632   ┆ 1654014000 │\n",
       "│ 000000000  ┆         ┆         ┆         ┆   ┆            ┆            ┆            ┆ 000000000  │\n",
       "│ …          ┆ …       ┆ …       ┆ …       ┆ … ┆ …          ┆ …          ┆ …          ┆ …          │\n",
       "│ 1688168400 ┆ 1934.44 ┆ 1936.94 ┆ 1933.78 ┆ … ┆ 1.234333   ┆ 1.02059    ┆ 1.451333   ┆ 1688168400 │\n",
       "│ 000000000  ┆         ┆         ┆         ┆   ┆            ┆            ┆            ┆ 000000000  │\n",
       "│ 1688168700 ┆ 1934.66 ┆ 1934.66 ┆ 1931.27 ┆ … ┆ 1.233098   ┆ 1.017453   ┆ 0.614069   ┆ 1688168700 │\n",
       "│ 000000000  ┆         ┆         ┆         ┆   ┆            ┆            ┆            ┆ 000000000  │\n",
       "│ 1688169000 ┆ 1932.89 ┆ 1935.55 ┆ 1932.04 ┆ … ┆ 1.233764   ┆ 1.018631   ┆ 0.911881   ┆ 1688169000 │\n",
       "│ 000000000  ┆         ┆         ┆         ┆   ┆            ┆            ┆            ┆ 000000000  │\n",
       "│ 1688169300 ┆ 1933.88 ┆ 1933.88 ┆ 1931.88 ┆ … ┆ 1.234684   ┆ 1.014939   ┆ 0.688258   ┆ 1688169300 │\n",
       "│ 000000000  ┆         ┆         ┆         ┆   ┆            ┆            ┆            ┆ 000000000  │\n",
       "└────────────┴─────────┴─────────┴─────────┴───┴────────────┴────────────┴────────────┴────────────┘"
      ]
     },
     "execution_count": 17,
     "metadata": {},
     "output_type": "execute_result"
    }
   ],
   "source": [
    "df.with_columns((pl.col(\"close\")/pl.col(\"close\").shift()-1.0).over(\"symbol\")).collect().filter(pl.col(\"symbol\")==\"ETHUSDT\")"
   ]
  },
  {
   "cell_type": "code",
   "execution_count": 14,
   "id": "3004ac2d-3b2b-4772-8aa1-0209443b11b0",
   "metadata": {},
   "outputs": [
    {
     "data": {
      "text/plain": [
       "['open_time',\n",
       " 'open',\n",
       " 'high',\n",
       " 'low',\n",
       " 'close',\n",
       " 'volume',\n",
       " 'quote_volume',\n",
       " 'count',\n",
       " 'taker_buy_volume',\n",
       " 'taker_buy_quote_volume',\n",
       " 'symbol',\n",
       " 'sum_open_interest',\n",
       " 'sum_open_interest_value',\n",
       " 'count_toptrader_long_short_ratio',\n",
       " 'sum_toptrader_long_short_ratio',\n",
       " 'count_long_short_ratio',\n",
       " 'sum_taker_long_short_vol_ratio',\n",
       " 'datetime']"
      ]
     },
     "execution_count": 14,
     "metadata": {},
     "output_type": "execute_result"
    }
   ],
   "source": [
    "df.columns"
   ]
  },
  {
   "cell_type": "code",
   "execution_count": null,
   "id": "a2e8259a-d5fc-4a8f-a179-893d727ee7b9",
   "metadata": {},
   "outputs": [],
   "source": []
  }
 ],
 "metadata": {
  "kernelspec": {
   "display_name": "Python 3 (ipykernel)",
   "language": "python",
   "name": "python3"
  },
  "language_info": {
   "codemirror_mode": {
    "name": "ipython",
    "version": 3
   },
   "file_extension": ".py",
   "mimetype": "text/x-python",
   "name": "python",
   "nbconvert_exporter": "python",
   "pygments_lexer": "ipython3",
   "version": "3.10.6"
  }
 },
 "nbformat": 4,
 "nbformat_minor": 5
}
