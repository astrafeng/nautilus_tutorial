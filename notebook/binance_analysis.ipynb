{
 "cells": [
  {
   "cell_type": "code",
   "execution_count": 110,
   "id": "6c5e4ee4-196e-48e7-a03f-b5f48004656a",
   "metadata": {},
   "outputs": [],
   "source": [
    "import requests\n",
    "\n",
    "def get_exchange_info():\n",
    "    url = \"https://api.binance.com/api/v3/exchangeInfo\"\n",
    "    response = requests.get(url)\n",
    "    if response.status_code == 200:\n",
    "        return response.json()\n",
    "    else:\n",
    "        return None\n",
    "\n",
    "exchange_info = get_exchange_info()\n"
   ]
  },
  {
   "cell_type": "code",
   "execution_count": 111,
   "id": "8e4a2b57-c684-4fec-be11-25bcc9aee24a",
   "metadata": {},
   "outputs": [],
   "source": [
    "def get_tradable_futures_pairs(exchange_info):\n",
    "    if exchange_info and 'symbols' in exchange_info:\n",
    "        futures_pairs = [pair[\"symbol\"] for pair in exchange_info['symbols'] if pair['quoteAsset'] == 'USDT' and pair['isMarginTradingAllowed']] \n",
    "        return futures_pairs\n",
    "    else:\n",
    "        return None"
   ]
  },
  {
   "cell_type": "code",
   "execution_count": 112,
   "id": "50babd46-dab5-48ec-8079-f0d78a3c2ac1",
   "metadata": {},
   "outputs": [],
   "source": [
    " tradable_pairs = get_tradable_futures_pairs(exchange_info)"
   ]
  },
  {
   "cell_type": "code",
   "execution_count": 108,
   "id": "4293459f-5f1b-4902-b9fb-ad458c6790fa",
   "metadata": {},
   "outputs": [],
   "source": [
    "def convert_pair_name(pair):\n",
    "    usdt_index = pair.find(\"USDT\")\n",
    "    if usdt_index != -1:\n",
    "        base_asset = pair[:usdt_index]\n",
    "        quote_asset = pair[usdt_index:]\n",
    "        return f\"{base_asset}_{quote_asset}\"\n",
    "    else:\n",
    "        return pair\n"
   ]
  },
  {
   "cell_type": "code",
   "execution_count": 57,
   "id": "c55e0425-06b2-40ea-a9a9-5e16e5a9b373",
   "metadata": {},
   "outputs": [],
   "source": [
    "import os\n",
    "import requests\n",
    "\n",
    "import os.path\n",
    "\n",
    "def download_feather_files(tradable_pairs):\n",
    "    base_url = \"https://github.com/DigiTuccar/HistoricalDataForTradeBacktest/raw/main/binance\"\n",
    "    save_directory = \"../compressed\"  # Directory to save the files\n",
    "    \n",
    "    if not os.path.exists(save_directory):\n",
    "        os.makedirs(save_directory)\n",
    "    \n",
    "    for pair in tradable_pairs:\n",
    "        formatted_pair = convert_pair_name(pair)\n",
    "        file_url = f\"{base_url}/{formatted_pair}-15m.feather\"  # Assuming the interval is 15 minutes (15m)\n",
    "        file_path = os.path.join(save_directory, f\"{formatted_pair}-15m.feather\")\n",
    "        \n",
    "        if os.path.exists(file_path):\n",
    "            print(f\"File {formatted_pair}-15m.feather already exists. Skipping...\")\n",
    "            continue\n",
    "        \n",
    "        response = requests.get(file_url)\n",
    "        if response.status_code == 200:\n",
    "            with open(file_path, 'wb') as f:\n",
    "                f.write(response.content)\n",
    "            print(f\"Downloaded {formatted_pair}-15m.feather\")\n",
    "        else:\n",
    "            print(f\"Failed to download {formatted_pair}-15m.feather\")\n",
    "\n",
    "\n",
    "\n"
   ]
  },
  {
   "cell_type": "code",
   "execution_count": 59,
   "id": "ae0d849c-d1ca-4118-8de0-c9b0a0789a05",
   "metadata": {},
   "outputs": [],
   "source": [
    "#download_feather_files(tradable_pairs)\n"
   ]
  },
  {
   "cell_type": "code",
   "execution_count": 66,
   "id": "29ac801e-21a6-4105-a8c4-8470b142d780",
   "metadata": {},
   "outputs": [
    {
     "name": "stdout",
     "output_type": "stream",
     "text": [
      "HTML content saved to coinInfo.html\n"
     ]
    }
   ],
   "source": [
    "import requests\n",
    "\n",
    "# URL for the coinInfo page of the \"AI\" coin\n",
    "url = \"https://www.binance.com/en/markets\"\n",
    "response = requests.get(url)\n",
    "\n",
    "if response.status_code == 200:\n",
    "    # Save the HTML content to a file\n",
    "    with open(\"coinInfo.html\", \"w\", encoding=\"utf-8\") as f:\n",
    "        f.write(response.text)\n",
    "    print(\"HTML content saved to coinInfo.html\")\n",
    "\n",
    "    # Now you can parse the HTML content using BeautifulSoup\n",
    "    # Add your BeautifulSoup parsing code here\n",
    "else:\n",
    "    print(\"Failed to retrieve the webpage\")\n"
   ]
  },
  {
   "cell_type": "code",
   "execution_count": 60,
   "id": "0307a51c-bc5d-471d-bf6f-16c708ea79dd",
   "metadata": {},
   "outputs": [],
   "source": [
    "import requests\n",
    "from bs4 import BeautifulSoup\n",
    "\n",
    "url = \"https://www.binance.com/en/markets/\"\n",
    "response = requests.get(url)\n",
    "\n",
    "if response.status_code == 200:\n",
    "    soup = BeautifulSoup(response.text, 'html.parser')\n",
    "    \n",
    "    # Find the section that contains market information\n",
    "    market_section = soup.find('section', class_='sc-4ymgbe-2 dXJslv')\n",
    "    if market_section:\n",
    "        # Extract market names and other relevant information\n",
    "        markets = market_section.find_all('div', class_='sc-1eb5slv-0 gwFoVT')\n",
    "        for market in markets:\n",
    "            market_name = market.find('div', class_='sc-1eb5slv-1 diHoyv').text.strip()\n",
    "            market_info = market.find('div', class_='sc-1eb5slv-2 cePoPx').text.strip()\n",
    "            print(f\"Market: {market_name}, Info: {market_info}\")\n",
    "else:\n",
    "    print(\"Failed to retrieve the webpage\")\n"
   ]
  },
  {
   "cell_type": "code",
   "execution_count": 67,
   "id": "6e474b72-c55a-4613-94d2-c4a5f572c2f2",
   "metadata": {},
   "outputs": [],
   "source": [
    "start_div = soup.find('div', id='__APP_TOP_PORTAL').find_next_sibling('div', id='__APP_HEADER')\n"
   ]
  },
  {
   "cell_type": "code",
   "execution_count": 75,
   "id": "78b64663-10c9-45b4-aaf5-24a4ac80fcea",
   "metadata": {},
   "outputs": [],
   "source": [
    "#start_div"
   ]
  },
  {
   "cell_type": "code",
   "execution_count": 72,
   "id": "71ebc4ec-5b67-4900-ace6-87bbf151d839",
   "metadata": {},
   "outputs": [],
   "source": [
    "#soup"
   ]
  },
  {
   "cell_type": "code",
   "execution_count": 73,
   "id": "3aa8d1df-d5f5-4fbd-a275-d78a17f70362",
   "metadata": {},
   "outputs": [],
   "source": [
    "start_point = soup.find('script', id='__APP_DATA')"
   ]
  },
  {
   "cell_type": "code",
   "execution_count": 78,
   "id": "9c7dbe3e-6003-48b0-8c66-d3e1cbd54d2f",
   "metadata": {},
   "outputs": [],
   "source": [
    "#start_point"
   ]
  },
  {
   "cell_type": "code",
   "execution_count": 82,
   "id": "334db76a-f7d2-4f2e-80dd-54ad3603352b",
   "metadata": {},
   "outputs": [],
   "source": [
    "if start_point:\n",
    "    # Find the next <script> tag after the starting point\n",
    "    end_script_tag = start_point.find_next('script')\n",
    "    \n",
    "    # Extract the HTML content between the starting point and the end script tag\n",
    "    extracted_html = str(start_point) + str(end_script_tag.previous_sibling)\n",
    "    "
   ]
  },
  {
   "cell_type": "code",
   "execution_count": 86,
   "id": "a321a757-e670-4e88-b63d-a62a3eefaca6",
   "metadata": {},
   "outputs": [
    {
     "name": "stderr",
     "output_type": "stream",
     "text": [
      "IOPub data rate exceeded.\n",
      "The Jupyter server will temporarily stop sending output\n",
      "to the client in order to avoid crashing it.\n",
      "To change this limit, set the config variable\n",
      "`--ServerApp.iopub_data_rate_limit`.\n",
      "\n",
      "Current values:\n",
      "ServerApp.iopub_data_rate_limit=1000000.0 (bytes/sec)\n",
      "ServerApp.rate_limit_window=3.0 (secs)\n",
      "\n"
     ]
    }
   ],
   "source": [
    "import json\n",
    "# Find the script tag with id=\"__APP_DATA\" and type=\"application/json\"\n",
    "script_tag = soup.find('script', id='__APP_DATA', type='application/json')\n",
    "\n",
    "if script_tag:\n",
    "    # Get the JSON content from the script tag\n",
    "    json_content = script_tag.string\n",
    "    \n",
    "    # Parse the JSON content\n",
    "    try:\n",
    "        json_data = json.loads(json_content)\n",
    "        print(\"JSON data after script tag:\")\n",
    "        print(json_data)\n",
    "    except json.JSONDecodeError as e:\n",
    "        print(\"Error decoding JSON:\", e)\n",
    "else:\n",
    "    print(\"Script tag not found\")"
   ]
  },
  {
   "cell_type": "code",
   "execution_count": 97,
   "id": "27ac59b2-cdd3-45fb-a45f-df70326b687c",
   "metadata": {},
   "outputs": [
    {
     "data": {
      "text/plain": [
       "dict_keys(['markets', 'global', 'cookies', 'products', 'ssrStore', 'userCenter', 'persistSetting'])"
      ]
     },
     "execution_count": 97,
     "metadata": {},
     "output_type": "execute_result"
    }
   ],
   "source": [
    "json_data['pageData']['redux'].keys()"
   ]
  },
  {
   "cell_type": "code",
   "execution_count": 95,
   "id": "8fb846ad-2c0b-4506-9ef4-527d7a27ad28",
   "metadata": {},
   "outputs": [
    {
     "data": {
      "text/plain": [
       "dict_keys(['tabInfo', 'search', 'showTradingDataInfo'])"
      ]
     },
     "execution_count": 95,
     "metadata": {},
     "output_type": "execute_result"
    }
   ],
   "source": [
    "json_data['pageData']['redux'][\"markets\"].keys()"
   ]
  },
  {
   "cell_type": "code",
   "execution_count": 98,
   "id": "1ce83baf-6eec-44d2-979e-a2ef1b81aee4",
   "metadata": {},
   "outputs": [
    {
     "data": {
      "text/plain": [
       "dict_keys(['origin', 'url', 'path', 'host', 'dir', 'metaData', 'region', 'isHybrid', 'withChat', 'withHeader', 'withFooter', 'withCompliance', 'restrictedBusinessKeys', 'noticeInfo', 'pageLayout', 'isMobile'])"
      ]
     },
     "execution_count": 98,
     "metadata": {},
     "output_type": "execute_result"
    }
   ],
   "source": [
    "json_data['pageData']['redux']['global'].keys()"
   ]
  },
  {
   "cell_type": "code",
   "execution_count": 103,
   "id": "fce4c375-ebdb-4d36-8e91-3a3124de2825",
   "metadata": {},
   "outputs": [
    {
     "data": {
      "text/plain": [
       "1168"
      ]
     },
     "execution_count": 103,
     "metadata": {},
     "output_type": "execute_result"
    }
   ],
   "source": [
    "len(json_data['pageData']['redux']['products'][\"productMap\"].keys())"
   ]
  },
  {
   "cell_type": "code",
   "execution_count": 104,
   "id": "97df627d-e087-4320-a630-daceaa5e66c5",
   "metadata": {},
   "outputs": [
    {
     "data": {
      "text/plain": [
       "{'low': '51677.00',\n",
       " 'close': '51737.82',\n",
       " 'high': '52488.77',\n",
       " 'open': '52197.11',\n",
       " 'volume': '29362.47',\n",
       " 'quoteVolume': '1530420724.3326896',\n",
       " 'symbol': 'BTCUSDT',\n",
       " 'tickSize': '0.01',\n",
       " 'minQty': '0.00001000',\n",
       " 'quoteAsset': 'USDT',\n",
       " 'baseAsset': 'BTC',\n",
       " 'quoteName': 'TetherUS',\n",
       " 'baseAssetName': 'Bitcoin',\n",
       " 'parentMarket': 'USDT',\n",
       " 'parentMarketName': 'USDT',\n",
       " 'circulatingSupply': 19631775,\n",
       " 'tags': ['pow', 'mining-zone']}"
      ]
     },
     "execution_count": 104,
     "metadata": {},
     "output_type": "execute_result"
    }
   ],
   "source": [
    "json_data['pageData']['redux']['products'][\"productMap\"]"
   ]
  },
  {
   "cell_type": "code",
   "execution_count": null,
   "id": "8297c3d5-577c-4ea7-8bf0-780930b9cd65",
   "metadata": {},
   "outputs": [],
   "source": [
    "from bs4 import BeautifulSoup\n",
    "import json\n",
    "import requests\n",
    "\n",
    "def extract_json_from_html(url):\n",
    "    try:\n",
    "        # Send an HTTP GET request to the URL\n",
    "        response = requests.get(url)\n",
    "        \n",
    "        # Check if the request was successful\n",
    "        if response.status_code == 200:\n",
    "            # Parse the HTML content using BeautifulSoup\n",
    "            soup = BeautifulSoup(response.text, 'html.parser')\n",
    "            \n",
    "            # Find the script tag with id=\"__APP_DATA\" and type=\"application/json\"\n",
    "            script_tag = soup.find('script', id='__APP_DATA', type='application/json')\n",
    "            \n",
    "            if script_tag:\n",
    "                # Get the JSON content from the script tag\n",
    "                json_content = script_tag.string\n",
    "                \n",
    "                # Parse the JSON content\n",
    "                json_data = json.loads(json_content)\n",
    "                \n",
    "                # Access the desired information\n",
    "                products = json_data['pageData']['redux']['products']['productMap']\n",
    "                \n",
    "                # Return the products information\n",
    "                return products\n",
    "            else:\n",
    "                return None, \"Script tag not found\"\n",
    "        else:\n",
    "            return None, f\"Failed to retrieve the webpage. Status code: {response.status_code}\"\n",
    "    except Exception as e:\n",
    "        return None, f\"An error occurred: {str(e)}\"\n",
    "\n",
    "# Example usage:\n",
    "url = \"https://www.example.com\"  # Replace with your URL\n",
    "products_info, error_message = extract_json_from_html(url)\n",
    "if products_info:\n",
    "    print(\"Products Information:\")\n",
    "    print(products_info)\n",
    "else:\n",
    "    print(f\"Error: {error_message}\")\n"
   ]
  },
  {
   "cell_type": "code",
   "execution_count": 117,
   "id": "df41c9c7-ed46-49bf-9b98-db9f64a3e734",
   "metadata": {},
   "outputs": [],
   "source": [
    "coin_infos = json_data['pageData']['redux']['products'][\"productMap\"]\n"
   ]
  },
  {
   "cell_type": "code",
   "execution_count": 133,
   "id": "0c166fcb-8c24-4cb1-86eb-2dd09df7a535",
   "metadata": {},
   "outputs": [],
   "source": [
    "filter_coin_infos = [] \n",
    "for key,value in coin_infos.items():\n",
    "    if key.endswith(\"USDT\"):\n",
    "        filter_coin_infos.append({\n",
    "            \"symbol\":key,\n",
    "            'baseAssetName':value['baseAssetName'],\n",
    "            \"tags\":value[\"tags\"]\n",
    "        })"
   ]
  },
  {
   "cell_type": "code",
   "execution_count": 134,
   "id": "b4321c32-3891-42d2-94ba-2f6f1221c64b",
   "metadata": {},
   "outputs": [],
   "source": [
    "import pandas as pd\n",
    "df = pd.DataFrame(filter_coin_infos)\n"
   ]
  },
  {
   "cell_type": "code",
   "execution_count": 135,
   "id": "b980c4a4-8711-4cb3-99ca-191390408c8e",
   "metadata": {},
   "outputs": [
    {
     "data": {
      "text/html": [
       "<div>\n",
       "<style scoped>\n",
       "    .dataframe tbody tr th:only-of-type {\n",
       "        vertical-align: middle;\n",
       "    }\n",
       "\n",
       "    .dataframe tbody tr th {\n",
       "        vertical-align: top;\n",
       "    }\n",
       "\n",
       "    .dataframe thead th {\n",
       "        text-align: right;\n",
       "    }\n",
       "</style>\n",
       "<table border=\"1\" class=\"dataframe\">\n",
       "  <thead>\n",
       "    <tr style=\"text-align: right;\">\n",
       "      <th></th>\n",
       "      <th>symbol</th>\n",
       "      <th>baseAssetName</th>\n",
       "      <th>tags</th>\n",
       "    </tr>\n",
       "  </thead>\n",
       "  <tbody>\n",
       "    <tr>\n",
       "      <th>0</th>\n",
       "      <td>BTCUSDT</td>\n",
       "      <td>Bitcoin</td>\n",
       "      <td>[pow, mining-zone]</td>\n",
       "    </tr>\n",
       "    <tr>\n",
       "      <th>1</th>\n",
       "      <td>1INCHUSDT</td>\n",
       "      <td>1inch</td>\n",
       "      <td>[defi]</td>\n",
       "    </tr>\n",
       "    <tr>\n",
       "      <th>2</th>\n",
       "      <td>AAVEUSDT</td>\n",
       "      <td>Aave</td>\n",
       "      <td>[defi]</td>\n",
       "    </tr>\n",
       "    <tr>\n",
       "      <th>3</th>\n",
       "      <td>ACMUSDT</td>\n",
       "      <td>AC Milan Fan Token</td>\n",
       "      <td>[fan_token]</td>\n",
       "    </tr>\n",
       "    <tr>\n",
       "      <th>4</th>\n",
       "      <td>ADAUSDT</td>\n",
       "      <td>Cardano</td>\n",
       "      <td>[Layer1_Layer2, pos, mining-zone]</td>\n",
       "    </tr>\n",
       "  </tbody>\n",
       "</table>\n",
       "</div>"
      ],
      "text/plain": [
       "      symbol       baseAssetName                               tags\n",
       "0    BTCUSDT             Bitcoin                 [pow, mining-zone]\n",
       "1  1INCHUSDT               1inch                             [defi]\n",
       "2   AAVEUSDT                Aave                             [defi]\n",
       "3    ACMUSDT  AC Milan Fan Token                        [fan_token]\n",
       "4    ADAUSDT             Cardano  [Layer1_Layer2, pos, mining-zone]"
      ]
     },
     "execution_count": 135,
     "metadata": {},
     "output_type": "execute_result"
    }
   ],
   "source": [
    "df.head()"
   ]
  },
  {
   "cell_type": "code",
   "execution_count": 136,
   "id": "6c474e45-077a-4086-bf77-c0517ae905ec",
   "metadata": {},
   "outputs": [],
   "source": [
    "df.to_csv(\"coin_tags.csv\")"
   ]
  },
  {
   "cell_type": "code",
   "execution_count": 132,
   "id": "901d110d-1af5-48fe-8130-880a32841200",
   "metadata": {},
   "outputs": [
    {
     "data": {
      "text/plain": [
       "{'low': '51677.00',\n",
       " 'close': '51737.82',\n",
       " 'high': '52488.77',\n",
       " 'open': '52197.11',\n",
       " 'volume': '29362.47',\n",
       " 'quoteVolume': '1530420724.3326896',\n",
       " 'symbol': 'BTCUSDT',\n",
       " 'tickSize': '0.01',\n",
       " 'minQty': '0.00001000',\n",
       " 'quoteAsset': 'USDT',\n",
       " 'baseAsset': 'BTC',\n",
       " 'quoteName': 'TetherUS',\n",
       " 'baseAssetName': 'Bitcoin',\n",
       " 'parentMarket': 'USDT',\n",
       " 'parentMarketName': 'USDT',\n",
       " 'circulatingSupply': 19631775,\n",
       " 'tags': ['pow', 'mining-zone']}"
      ]
     },
     "execution_count": 132,
     "metadata": {},
     "output_type": "execute_result"
    }
   ],
   "source": [
    "coin_infos[\"BTCUSDT\"]"
   ]
  },
  {
   "cell_type": "code",
   "execution_count": null,
   "id": "50cd45a0-9f87-43ca-902e-cf9225dd3724",
   "metadata": {},
   "outputs": [],
   "source": []
  }
 ],
 "metadata": {
  "kernelspec": {
   "display_name": "nautilus",
   "language": "python",
   "name": "nautilus-trader-py3.10"
  },
  "language_info": {
   "codemirror_mode": {
    "name": "ipython",
    "version": 3
   },
   "file_extension": ".py",
   "mimetype": "text/x-python",
   "name": "python",
   "nbconvert_exporter": "python",
   "pygments_lexer": "ipython3",
   "version": "3.10.12"
  }
 },
 "nbformat": 4,
 "nbformat_minor": 5
}
